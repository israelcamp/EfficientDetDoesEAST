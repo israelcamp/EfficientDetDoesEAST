{
 "cells": [
  {
   "cell_type": "markdown",
   "metadata": {},
   "source": [
    "# API"
   ]
  },
  {
   "cell_type": "code",
   "execution_count": 4,
   "metadata": {
    "ExecuteTime": {
     "end_time": "2020-12-08T18:02:54.324227Z",
     "start_time": "2020-12-08T18:02:54.314609Z"
    }
   },
   "outputs": [],
   "source": [
    "from pathlib import Path\n",
    "import json\n",
    "import datetime\n",
    "import copy\n",
    "import os\n",
    "\n",
    "# Third Parties\n",
    "import numpy as np\n",
    "from PIL import Image\n",
    "import imgaug.augmentables as ia\n",
    "import albumentations\n",
    "import albumentations as A\n",
    "\n",
    "# Torch\n",
    "from torch.utils.data import Dataset\n",
    "import torchvision as tv\n",
    "\n",
    "# Types\n",
    "from typing import List, Tuple, Optional\n",
    "import dataclasses\n",
    "from pydantic.dataclasses import dataclass\n",
    "from pydantic import validate_arguments, validator, BaseModel\n",
    "\n",
    "from effdet.east import get_input_image_and_bboxes, scale_bboxes, create_ground_truth"
   ]
  },
  {
   "cell_type": "code",
   "execution_count": 2,
   "metadata": {
    "ExecuteTime": {
     "end_time": "2020-12-08T18:02:39.848123Z",
     "start_time": "2020-12-08T18:02:39.830211Z"
    }
   },
   "outputs": [],
   "source": [
    "@dataclass\n",
    "class COCO_Text:\n",
    "    \"\"\"\n",
    "    Constructor of COCO-Text helper class for reading and visualizing annotations.\n",
    "    :param annotation_file (str): location of annotation file\n",
    "    :return:\n",
    "    \"\"\"\n",
    "    annotation_file: Path = dataclasses.field(metadata=\"location of annotation file\")\n",
    "    \n",
    "    def __post_init_post_parse__(self,):\n",
    "        \n",
    "        # load dataset\n",
    "        self.dataset = {}\n",
    "        self.anns = {}\n",
    "        self.imgToAnns = {}\n",
    "        self.catToImgs = {}\n",
    "        self.imgs = {}\n",
    "        self.cats = {}\n",
    "        self.val = []\n",
    "        self.test = []\n",
    "        self.train = []\n",
    "        if not self.annotation_file == None:\n",
    "            assert os.path.isfile(self.annotation_file), \"file does not exist\"\n",
    "            print('loading annotations into memory...')\n",
    "            time_t = datetime.datetime.utcnow()\n",
    "            dataset = json.load(open(self.annotation_file, 'r'))\n",
    "            print(datetime.datetime.utcnow() - time_t)\n",
    "            self.dataset = dataset\n",
    "            self.createIndex()\n",
    "\n",
    "    def createIndex(self):\n",
    "        # create index\n",
    "        print('creating index...')\n",
    "        self.imgToAnns = {int(cocoid): self.dataset['imgToAnns'][cocoid] for cocoid in self.dataset['imgToAnns']}\n",
    "        self.imgs      = {int(cocoid): self.dataset['imgs'][cocoid] for cocoid in self.dataset['imgs']}\n",
    "        self.anns      = {int(annid): self.dataset['anns'][annid] for annid in self.dataset['anns']}\n",
    "        self.cats      = self.dataset['cats']\n",
    "        self.val       = [int(cocoid) for cocoid in self.dataset['imgs'] if self.dataset['imgs'][cocoid]['set'] == 'val']\n",
    "        self.test      = [int(cocoid) for cocoid in self.dataset['imgs'] if self.dataset['imgs'][cocoid]['set'] == 'test']\n",
    "        self.train     = [int(cocoid) for cocoid in self.dataset['imgs'] if self.dataset['imgs'][cocoid]['set'] == 'train']\n",
    "        print('index created!')\n",
    "\n",
    "    def info(self):\n",
    "        \"\"\"\n",
    "        Print information about the annotation file.\n",
    "        :return:\n",
    "        \"\"\"\n",
    "        for key, value in self.dataset['info'].items():\n",
    "            print('%s: %s'%(key, value))\n",
    "\n",
    "    def filtering(self, filterDict, criteria):\n",
    "        return [key for key in filterDict if all(criterion(filterDict[key]) for criterion in criteria)]\n",
    "\n",
    "    def getAnnByCat(self, properties):\n",
    "        \"\"\"\n",
    "        Get ann ids that satisfy given properties\n",
    "        :param properties (list of tuples of the form [(category type, category)] e.g., [('readability','readable')] \n",
    "            : get anns for given categories - anns have to satisfy all given property tuples\n",
    "        :return: ids (int array)       : integer array of ann ids\n",
    "        \"\"\"\n",
    "        return self.filtering(self.anns, [lambda d, x=a, y=b:d[x] == y for (a,b) in properties])\n",
    "\n",
    "    def getAnnIds(self, imgIds=[], catIds=[], areaRng=[]):\n",
    "        \"\"\"\n",
    "        Get ann ids that satisfy given filter conditions. default skips that filter\n",
    "        :param imgIds  (int array)     : get anns for given imgs\n",
    "               catIds  (list of tuples of the form [(category type, category)] e.g., [('readability','readable')] \n",
    "                : get anns for given cats\n",
    "               areaRng (float array)   : get anns for given area range (e.g. [0 inf])\n",
    "        :return: ids (int array)       : integer array of ann ids\n",
    "        \"\"\"\n",
    "        imgIds = imgIds if type(imgIds) == list else [imgIds]\n",
    "        catIds = catIds if type(catIds) == list else [catIds]\n",
    "\n",
    "        if len(imgIds) == len(catIds) == len(areaRng) == 0:\n",
    "            anns = list(self.anns.keys())\n",
    "        else:\n",
    "            if not len(imgIds) == 0:\n",
    "                anns = sum([self.imgToAnns[imgId] for imgId in imgIds if imgId in self.imgToAnns],[])\n",
    "            else:\n",
    "                anns = list(self.anns.keys())\n",
    "            anns = anns if len(catIds)  == 0 else list(set(anns).intersection(set(self.getAnnByCat(catIds)))) \n",
    "            anns = anns if len(areaRng) == 0 else [ann for ann in anns if self.anns[ann]['area'] > areaRng[0] and self.anns[ann]['area'] < areaRng[1]]\n",
    "        return anns\n",
    "\n",
    "    def getImgIds(self, imgIds=[], catIds=[]):\n",
    "        '''\n",
    "        Get img ids that satisfy given filter conditions.\n",
    "        :param imgIds (int array) : get imgs for given ids\n",
    "        :param catIds (int array) : get imgs with all given cats\n",
    "        :return: ids (int array)  : integer array of img ids\n",
    "        '''\n",
    "        imgIds = imgIds if type(imgIds) == list else [imgIds]\n",
    "        catIds = catIds if type(catIds) == list else [catIds]\n",
    "\n",
    "        if len(imgIds) == len(catIds) == 0:\n",
    "            ids = list(self.imgs.keys())\n",
    "        else:\n",
    "            ids = set(imgIds)\n",
    "            if not len(catIds) == 0:\n",
    "                ids  = ids.intersection(set([self.anns[annid]['image_id'] for annid in self.getAnnByCat(catIds)]))\n",
    "        return list(ids)\n",
    "\n",
    "    def loadAnn(self, img_id: int):\n",
    "        \"\"\"\n",
    "        Load anns with the specified ids.\n",
    "        :param id (int)       : integer id specifying ann\n",
    "        :return: anns (object) : loaded ann object\n",
    "        \"\"\"\n",
    "        ids = self.getAnnIds(img_id)\n",
    "        return [self.anns[id] for id in ids]\n",
    "\n",
    "    def loadImg(self, id: int):\n",
    "        \"\"\"\n",
    "        Load anns with the specified ids.\n",
    "        :param ids (int array)       : integer ids specifying img\n",
    "        :return: imgs (object array) : loaded img objects\n",
    "        \"\"\"\n",
    "        return self.imgs[id]\n"
   ]
  },
  {
   "cell_type": "code",
   "execution_count": 19,
   "metadata": {
    "ExecuteTime": {
     "end_time": "2020-12-08T18:05:30.014413Z",
     "start_time": "2020-12-08T18:05:29.991193Z"
    }
   },
   "outputs": [],
   "source": [
    "@dataclasses.dataclass\n",
    "class COCOTextDataset(Dataset):\n",
    "\n",
    "    img_ids: List[int]\n",
    "    img_dir: str\n",
    "    ct: COCO_Text\n",
    "    image_size: Tuple[int, int] = dataclasses.field(default=(768, 768))\n",
    "    scale: int = dataclasses.field(default=4)\n",
    "    transforms: Optional[albumentations.Compose] = dataclasses.field(\n",
    "        default=None)\n",
    "        \n",
    "    to_torch = tv.transforms.Compose([\n",
    "        tv.transforms.ToTensor(),\n",
    "        tv.transforms.Lambda(lambda x: 2 * x - 1)\n",
    "    ])\n",
    "\n",
    "    def __len__(self,):\n",
    "        return len(self.img_ids)\n",
    "\n",
    "    def _img_and_annotations(self, idx):\n",
    "        img = ct.loadImg(self.img_ids[idx])\n",
    "        ann = ct.loadAnn(img['id'])\n",
    "\n",
    "        path = os.path.join(self.img_dir, img['file_name'])\n",
    "        image = np.array(Image.open(path).convert('RGB'))\n",
    "        return image, ann\n",
    "\n",
    "    def _make_bboxes_from_annotations(self, anns, shape):\n",
    "        bboxes = []\n",
    "        for a in anns:\n",
    "            x0, y0, w, h = a['bbox']\n",
    "            y1, x1 = y0 + h, x0 + w\n",
    "            bboxes.append(ia.BoundingBox(x0, y0, x1, y1))\n",
    "        bboxes = ia.BoundingBoxesOnImage(bboxes, shape=shape)\n",
    "        return bboxes\n",
    "\n",
    "    def __getitem__(self, idx):\n",
    "        image, anns = self._img_and_annotations(idx)\n",
    "        bboxes = self._make_bboxes_from_annotations(anns, image.shape)\n",
    "\n",
    "        # HERE COMES THE AUGMENTATIONS\n",
    "        if self.transforms is not None:\n",
    "            transformed = transforms(image=image, bboxes=bboxes.to_xyxy_array())\n",
    "            img_aug = transformed['image']\n",
    "            bboxes_aug = transformed['bboxes']\n",
    "            bboxes = ia.BoundingBoxesOnImage.from_xyxy_array(\n",
    "                bboxes_aug, img_aug.shape)\n",
    "\n",
    "        # SCALES BOXES AND GENERATE GT\n",
    "        image, bboxes = get_input_image_and_bboxes(\n",
    "            image, bboxes, self.image_size, self.scale)\n",
    "        bboxes, mask_boxes = scale_bboxes(bboxes)\n",
    "        gt_image, _ = create_ground_truth(\n",
    "            bboxes, mask_boxes, self.image_size, self.scale)\n",
    "\n",
    "        image = self.to_torch(image)\n",
    "        \n",
    "        return image, gt_image"
   ]
  },
  {
   "cell_type": "code",
   "execution_count": 20,
   "metadata": {
    "ExecuteTime": {
     "end_time": "2020-12-08T18:05:31.671608Z",
     "start_time": "2020-12-08T18:05:30.128052Z"
    }
   },
   "outputs": [
    {
     "name": "stdout",
     "output_type": "stream",
     "text": [
      "loading annotations into memory...\n",
      "0:00:01.378568\n",
      "creating index...\n",
      "index created!\n"
     ]
    }
   ],
   "source": [
    "ct = COCO_Text('COCO/COCO_Text.json')"
   ]
  },
  {
   "cell_type": "code",
   "execution_count": 21,
   "metadata": {
    "ExecuteTime": {
     "end_time": "2020-12-08T18:05:31.686301Z",
     "start_time": "2020-12-08T18:05:31.673082Z"
    }
   },
   "outputs": [
    {
     "name": "stdout",
     "output_type": "stream",
     "text": [
      "url: http://vision.cornell.edu/se3/coco-text/\n",
      "date_created: 2017-03-28\n",
      "version: 1.4\n",
      "description: This is 1.4 version of the 2017 COCO-Text dataset.\n",
      "author: COCO-Text group\n"
     ]
    }
   ],
   "source": [
    "ct.info()"
   ]
  },
  {
   "cell_type": "code",
   "execution_count": 22,
   "metadata": {
    "ExecuteTime": {
     "end_time": "2020-12-08T18:05:31.755159Z",
     "start_time": "2020-12-08T18:05:31.687965Z"
    }
   },
   "outputs": [],
   "source": [
    "transforms = A.Compose([\n",
    "    A.RandomCrop(250, 250)\n",
    "], bbox_params=A.BboxParams(format='pascal_voc',  label_fields=[]))"
   ]
  },
  {
   "cell_type": "code",
   "execution_count": 23,
   "metadata": {
    "ExecuteTime": {
     "end_time": "2020-12-08T18:05:31.824888Z",
     "start_time": "2020-12-08T18:05:31.758328Z"
    }
   },
   "outputs": [],
   "source": [
    "imgIds = ct.getImgIds()\n",
    "dataDir = 'COCO/train2014/'"
   ]
  },
  {
   "cell_type": "code",
   "execution_count": 24,
   "metadata": {
    "ExecuteTime": {
     "end_time": "2020-12-08T18:05:31.993735Z",
     "start_time": "2020-12-08T18:05:31.827730Z"
    }
   },
   "outputs": [],
   "source": [
    "ds_debug = COCOTextDataset(imgIds[:2], dataDir, ct, transforms=transforms)"
   ]
  },
  {
   "cell_type": "code",
   "execution_count": 25,
   "metadata": {
    "ExecuteTime": {
     "end_time": "2020-12-08T18:05:32.125084Z",
     "start_time": "2020-12-08T18:05:31.995103Z"
    }
   },
   "outputs": [],
   "source": [
    "x, y = ds_debug[0]"
   ]
  },
  {
   "cell_type": "code",
   "execution_count": 26,
   "metadata": {
    "ExecuteTime": {
     "end_time": "2020-12-08T18:05:32.165038Z",
     "start_time": "2020-12-08T18:05:32.127357Z"
    }
   },
   "outputs": [
    {
     "data": {
      "text/plain": [
       "(torch.Size([3, 768, 768]), (5, 192, 192))"
      ]
     },
     "execution_count": 26,
     "metadata": {},
     "output_type": "execute_result"
    }
   ],
   "source": [
    "x.shape, y.shape"
   ]
  },
  {
   "cell_type": "code",
   "execution_count": null,
   "metadata": {},
   "outputs": [],
   "source": []
  }
 ],
 "metadata": {
  "kernelspec": {
   "display_name": "Python 3",
   "language": "python",
   "name": "python3"
  },
  "language_info": {
   "codemirror_mode": {
    "name": "ipython",
    "version": 3
   },
   "file_extension": ".py",
   "mimetype": "text/x-python",
   "name": "python",
   "nbconvert_exporter": "python",
   "pygments_lexer": "ipython3",
   "version": "3.7.7"
  }
 },
 "nbformat": 4,
 "nbformat_minor": 4
}
