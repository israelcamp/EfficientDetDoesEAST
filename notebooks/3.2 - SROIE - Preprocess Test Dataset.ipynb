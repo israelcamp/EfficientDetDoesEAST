{
 "cells": [
  {
   "cell_type": "code",
   "execution_count": 1,
   "metadata": {
    "ExecuteTime": {
     "end_time": "2020-12-20T20:16:58.318049Z",
     "start_time": "2020-12-20T20:16:57.619126Z"
    }
   },
   "outputs": [],
   "source": [
    "from pathlib import Path\n",
    "import os\n",
    "import glob\n",
    "\n",
    "import numpy as np\n",
    "from PIL import Image\n",
    "import imgaug.augmentables as ia\n",
    "from tqdm import tqdm_notebook\n",
    "\n",
    "from datasets.sroie.utils.cropper import crop_image, polys2boxes"
   ]
  },
  {
   "cell_type": "code",
   "execution_count": 8,
   "metadata": {
    "ExecuteTime": {
     "end_time": "2020-12-20T20:42:08.495386Z",
     "start_time": "2020-12-20T20:42:08.492537Z"
    }
   },
   "outputs": [],
   "source": [
    "raw_data_folder = 'SROIE/task1_test(361p)/'\n",
    "proc_data_folder = 'SROIE/task1test_proc/'"
   ]
  },
  {
   "cell_type": "code",
   "execution_count": 9,
   "metadata": {
    "ExecuteTime": {
     "end_time": "2020-12-20T20:42:08.958592Z",
     "start_time": "2020-12-20T20:42:08.951446Z"
    }
   },
   "outputs": [],
   "source": [
    "## images\n",
    "image_files = glob.glob(os.path.join(raw_data_folder, '*.jpg'))"
   ]
  },
  {
   "cell_type": "code",
   "execution_count": 10,
   "metadata": {
    "ExecuteTime": {
     "end_time": "2020-12-20T20:42:10.172219Z",
     "start_time": "2020-12-20T20:42:10.166352Z"
    }
   },
   "outputs": [
    {
     "data": {
      "text/plain": [
       "361"
      ]
     },
     "execution_count": 10,
     "metadata": {},
     "output_type": "execute_result"
    }
   ],
   "source": [
    "len(image_files)"
   ]
  },
  {
   "cell_type": "code",
   "execution_count": 11,
   "metadata": {
    "ExecuteTime": {
     "end_time": "2020-12-20T20:47:59.377460Z",
     "start_time": "2020-12-20T20:42:14.216134Z"
    }
   },
   "outputs": [
    {
     "name": "stderr",
     "output_type": "stream",
     "text": [
      "/opt/conda/lib/python3.7/site-packages/ipykernel_launcher.py:1: TqdmDeprecationWarning: This function will be removed in tqdm==5.0.0\n",
      "Please use `tqdm.notebook.tqdm` instead of `tqdm.tqdm_notebook`\n",
      "  \"\"\"Entry point for launching an IPython kernel.\n"
     ]
    },
    {
     "data": {
      "application/vnd.jupyter.widget-view+json": {
       "model_id": "6043d24650584d06964edd77cbbb5756",
       "version_major": 2,
       "version_minor": 0
      },
      "text/plain": [
       "HBox(children=(FloatProgress(value=0.0, max=361.0), HTML(value='')))"
      ]
     },
     "metadata": {},
     "output_type": "display_data"
    },
    {
     "name": "stdout",
     "output_type": "stream",
     "text": [
      "\n"
     ]
    }
   ],
   "source": [
    "for img_file in tqdm_notebook(image_files):\n",
    "\n",
    "    image_name = img_file.split('/')[-1]\n",
    "    new_image_path = os.path.join(proc_data_folder, image_name)\n",
    "\n",
    "    image = Image.open(img_file).convert('RGB')\n",
    "\n",
    "    cropped_image, _, _, crop_box, _ = crop_image(image, img_file)    \n",
    "    cropped_image.save(new_image_path)\n",
    "    np.save(new_image_path.replace('.jpg', '.npy'), crop_box)\n",
    "    \n",
    "#     break"
   ]
  },
  {
   "cell_type": "code",
   "execution_count": null,
   "metadata": {},
   "outputs": [],
   "source": []
  }
 ],
 "metadata": {
  "kernelspec": {
   "display_name": "Python 3",
   "language": "python",
   "name": "python3"
  },
  "language_info": {
   "codemirror_mode": {
    "name": "ipython",
    "version": 3
   },
   "file_extension": ".py",
   "mimetype": "text/x-python",
   "name": "python",
   "nbconvert_exporter": "python",
   "pygments_lexer": "ipython3",
   "version": "3.7.7"
  }
 },
 "nbformat": 4,
 "nbformat_minor": 4
}
