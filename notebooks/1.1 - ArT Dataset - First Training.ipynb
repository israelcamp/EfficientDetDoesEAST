{
 "cells": [
  {
   "cell_type": "code",
   "execution_count": 1,
   "metadata": {
    "ExecuteTime": {
     "end_time": "2020-12-02T14:41:19.055898Z",
     "start_time": "2020-12-02T14:41:17.786419Z"
    }
   },
   "outputs": [],
   "source": [
    "import json\n",
    "import glob\n",
    "import os\n",
    "import argparse\n",
    "\n",
    "import imgaug.augmentables as ia\n",
    "import albumentations as A\n",
    "\n",
    "from shapely import geometry\n",
    "import matplotlib.pyplot as plt\n",
    "from shapely.geometry import Polygon\n",
    "from PIL import Image, ImageDraw\n",
    "import numpy as np\n",
    "\n",
    "import torchvision as tv\n",
    "from torch import nn\n",
    "from torch.utils.data import Dataset, DataLoader\n",
    "import torch\n",
    "\n",
    "import pytorch_lightning as pl\n",
    "from pytorch_lightning.loggers import NeptuneLogger\n",
    "from pytorch_lightning.callbacks import ModelCheckpoint, EarlyStopping\n",
    "\n",
    "from effdet.modeling_efficientdet import EfficientDetDoesEAST\n",
    "from effdet.east_losses import BalancedBCE"
   ]
  },
  {
   "cell_type": "code",
   "execution_count": 2,
   "metadata": {
    "ExecuteTime": {
     "end_time": "2020-12-02T14:41:19.738891Z",
     "start_time": "2020-12-02T14:41:19.057802Z"
    }
   },
   "outputs": [],
   "source": [
    "image_folder = './train_images/'\n",
    "image_files = glob.glob('./train_images/*.jpg')\n",
    "with open('./train_labels.json', 'rb') as f:\n",
    "    image_labels = json.load(f)"
   ]
  },
  {
   "cell_type": "code",
   "execution_count": 3,
   "metadata": {
    "ExecuteTime": {
     "end_time": "2020-12-02T14:41:19.745974Z",
     "start_time": "2020-12-02T14:41:19.741134Z"
    }
   },
   "outputs": [
    {
     "data": {
      "text/plain": [
       "(5603, 5603)"
      ]
     },
     "execution_count": 3,
     "metadata": {},
     "output_type": "execute_result"
    }
   ],
   "source": [
    "len(image_files), len(image_labels)"
   ]
  },
  {
   "cell_type": "code",
   "execution_count": 17,
   "metadata": {
    "ExecuteTime": {
     "end_time": "2020-12-02T14:44:27.709048Z",
     "start_time": "2020-12-02T14:44:27.696987Z"
    }
   },
   "outputs": [],
   "source": [
    "def get_image_and_mask_from_name(gt_name, image_type=np.uint8, mask_type=np.uint8):\n",
    "    annotations = image_labels[gt_name]\n",
    "    image = Image.open(os.path.join(image_folder, f'{gt_name}.jpg')).convert('RGB')\n",
    "    mask = Image.new('L', size=image.size, color=0)\n",
    "    draw = ImageDraw.Draw(mask)\n",
    "    for annot in annotations:\n",
    "        if len(annot['points']) > 1:\n",
    "            draw.polygon(tuple(tuple(xy) for xy in annot['points']), fill=255)\n",
    "    np_image = np.array(image, dtype=image_type)\n",
    "    np_mask = (1 * (np.array(mask) != 0)).astype(mask_type)\n",
    "    return np_image, np_mask"
   ]
  },
  {
   "cell_type": "code",
   "execution_count": 18,
   "metadata": {
    "ExecuteTime": {
     "end_time": "2020-12-02T14:44:28.058948Z",
     "start_time": "2020-12-02T14:44:28.052661Z"
    }
   },
   "outputs": [],
   "source": [
    "def view_image_and_mask(image, mask):\n",
    "    ia_mask = ia.SegmentationMapsOnImage(mask, mask.shape)\n",
    "    return Image.fromarray(ia_mask.draw_on_image(image.astype(np.uint8), alpha=0.5)[0])"
   ]
  },
  {
   "cell_type": "code",
   "execution_count": 6,
   "metadata": {
    "ExecuteTime": {
     "end_time": "2020-12-02T14:42:24.098324Z",
     "start_time": "2020-12-02T14:41:31.670125Z"
    }
   },
   "outputs": [
    {
     "ename": "TypeError",
     "evalue": "coordinate list must contain at least 2 coordinates",
     "output_type": "error",
     "traceback": [
      "\u001b[0;31m---------------------------------------------------------------------------\u001b[0m",
      "\u001b[0;31mTypeError\u001b[0m                                 Traceback (most recent call last)",
      "\u001b[0;32m<ipython-input-6-727ffd22c23d>\u001b[0m in \u001b[0;36m<module>\u001b[0;34m\u001b[0m\n\u001b[1;32m      1\u001b[0m \u001b[0;32mfor\u001b[0m \u001b[0mgt_name\u001b[0m \u001b[0;32min\u001b[0m \u001b[0mlist\u001b[0m\u001b[0;34m(\u001b[0m\u001b[0mimage_labels\u001b[0m\u001b[0;34m.\u001b[0m\u001b[0mkeys\u001b[0m\u001b[0;34m(\u001b[0m\u001b[0;34m)\u001b[0m\u001b[0;34m)\u001b[0m\u001b[0;34m:\u001b[0m\u001b[0;34m\u001b[0m\u001b[0;34m\u001b[0m\u001b[0m\n\u001b[0;32m----> 2\u001b[0;31m     \u001b[0mimg\u001b[0m\u001b[0;34m,\u001b[0m \u001b[0mmask\u001b[0m \u001b[0;34m=\u001b[0m \u001b[0mget_image_and_mask_from_name\u001b[0m\u001b[0;34m(\u001b[0m\u001b[0mgt_name\u001b[0m\u001b[0;34m)\u001b[0m\u001b[0;34m\u001b[0m\u001b[0;34m\u001b[0m\u001b[0m\n\u001b[0m",
      "\u001b[0;32m<ipython-input-4-28da7a0e683b>\u001b[0m in \u001b[0;36mget_image_and_mask_from_name\u001b[0;34m(gt_name, image_type, mask_type)\u001b[0m\n\u001b[1;32m      5\u001b[0m     \u001b[0mdraw\u001b[0m \u001b[0;34m=\u001b[0m \u001b[0mImageDraw\u001b[0m\u001b[0;34m.\u001b[0m\u001b[0mDraw\u001b[0m\u001b[0;34m(\u001b[0m\u001b[0mmask\u001b[0m\u001b[0;34m)\u001b[0m\u001b[0;34m\u001b[0m\u001b[0;34m\u001b[0m\u001b[0m\n\u001b[1;32m      6\u001b[0m     \u001b[0;32mfor\u001b[0m \u001b[0mannot\u001b[0m \u001b[0;32min\u001b[0m \u001b[0mannotations\u001b[0m\u001b[0;34m:\u001b[0m\u001b[0;34m\u001b[0m\u001b[0;34m\u001b[0m\u001b[0m\n\u001b[0;32m----> 7\u001b[0;31m         \u001b[0mdraw\u001b[0m\u001b[0;34m.\u001b[0m\u001b[0mpolygon\u001b[0m\u001b[0;34m(\u001b[0m\u001b[0mtuple\u001b[0m\u001b[0;34m(\u001b[0m\u001b[0mtuple\u001b[0m\u001b[0;34m(\u001b[0m\u001b[0mxy\u001b[0m\u001b[0;34m)\u001b[0m \u001b[0;32mfor\u001b[0m \u001b[0mxy\u001b[0m \u001b[0;32min\u001b[0m \u001b[0mannot\u001b[0m\u001b[0;34m[\u001b[0m\u001b[0;34m'points'\u001b[0m\u001b[0;34m]\u001b[0m\u001b[0;34m)\u001b[0m\u001b[0;34m,\u001b[0m \u001b[0mfill\u001b[0m\u001b[0;34m=\u001b[0m\u001b[0;36m255\u001b[0m\u001b[0;34m)\u001b[0m\u001b[0;34m\u001b[0m\u001b[0;34m\u001b[0m\u001b[0m\n\u001b[0m\u001b[1;32m      8\u001b[0m     \u001b[0mnp_image\u001b[0m \u001b[0;34m=\u001b[0m \u001b[0mnp\u001b[0m\u001b[0;34m.\u001b[0m\u001b[0marray\u001b[0m\u001b[0;34m(\u001b[0m\u001b[0mimage\u001b[0m\u001b[0;34m,\u001b[0m \u001b[0mdtype\u001b[0m\u001b[0;34m=\u001b[0m\u001b[0mimage_type\u001b[0m\u001b[0;34m)\u001b[0m\u001b[0;34m\u001b[0m\u001b[0;34m\u001b[0m\u001b[0m\n\u001b[1;32m      9\u001b[0m     \u001b[0mnp_mask\u001b[0m \u001b[0;34m=\u001b[0m \u001b[0;34m(\u001b[0m\u001b[0;36m1\u001b[0m \u001b[0;34m*\u001b[0m \u001b[0;34m(\u001b[0m\u001b[0mnp\u001b[0m\u001b[0;34m.\u001b[0m\u001b[0marray\u001b[0m\u001b[0;34m(\u001b[0m\u001b[0mmask\u001b[0m\u001b[0;34m)\u001b[0m \u001b[0;34m!=\u001b[0m \u001b[0;36m0\u001b[0m\u001b[0;34m)\u001b[0m\u001b[0;34m)\u001b[0m\u001b[0;34m.\u001b[0m\u001b[0mastype\u001b[0m\u001b[0;34m(\u001b[0m\u001b[0mmask_type\u001b[0m\u001b[0;34m)\u001b[0m\u001b[0;34m\u001b[0m\u001b[0;34m\u001b[0m\u001b[0m\n",
      "\u001b[0;32m/opt/conda/lib/python3.7/site-packages/PIL/ImageDraw.py\u001b[0m in \u001b[0;36mpolygon\u001b[0;34m(self, xy, fill, outline)\u001b[0m\n\u001b[1;32m    240\u001b[0m         \u001b[0mink\u001b[0m\u001b[0;34m,\u001b[0m \u001b[0mfill\u001b[0m \u001b[0;34m=\u001b[0m \u001b[0mself\u001b[0m\u001b[0;34m.\u001b[0m\u001b[0m_getink\u001b[0m\u001b[0;34m(\u001b[0m\u001b[0moutline\u001b[0m\u001b[0;34m,\u001b[0m \u001b[0mfill\u001b[0m\u001b[0;34m)\u001b[0m\u001b[0;34m\u001b[0m\u001b[0;34m\u001b[0m\u001b[0m\n\u001b[1;32m    241\u001b[0m         \u001b[0;32mif\u001b[0m \u001b[0mfill\u001b[0m \u001b[0;32mis\u001b[0m \u001b[0;32mnot\u001b[0m \u001b[0;32mNone\u001b[0m\u001b[0;34m:\u001b[0m\u001b[0;34m\u001b[0m\u001b[0;34m\u001b[0m\u001b[0m\n\u001b[0;32m--> 242\u001b[0;31m             \u001b[0mself\u001b[0m\u001b[0;34m.\u001b[0m\u001b[0mdraw\u001b[0m\u001b[0;34m.\u001b[0m\u001b[0mdraw_polygon\u001b[0m\u001b[0;34m(\u001b[0m\u001b[0mxy\u001b[0m\u001b[0;34m,\u001b[0m \u001b[0mfill\u001b[0m\u001b[0;34m,\u001b[0m \u001b[0;36m1\u001b[0m\u001b[0;34m)\u001b[0m\u001b[0;34m\u001b[0m\u001b[0;34m\u001b[0m\u001b[0m\n\u001b[0m\u001b[1;32m    243\u001b[0m         \u001b[0;32mif\u001b[0m \u001b[0mink\u001b[0m \u001b[0;32mis\u001b[0m \u001b[0;32mnot\u001b[0m \u001b[0;32mNone\u001b[0m \u001b[0;32mand\u001b[0m \u001b[0mink\u001b[0m \u001b[0;34m!=\u001b[0m \u001b[0mfill\u001b[0m\u001b[0;34m:\u001b[0m\u001b[0;34m\u001b[0m\u001b[0;34m\u001b[0m\u001b[0m\n\u001b[1;32m    244\u001b[0m             \u001b[0mself\u001b[0m\u001b[0;34m.\u001b[0m\u001b[0mdraw\u001b[0m\u001b[0;34m.\u001b[0m\u001b[0mdraw_polygon\u001b[0m\u001b[0;34m(\u001b[0m\u001b[0mxy\u001b[0m\u001b[0;34m,\u001b[0m \u001b[0mink\u001b[0m\u001b[0;34m,\u001b[0m \u001b[0;36m0\u001b[0m\u001b[0;34m)\u001b[0m\u001b[0;34m\u001b[0m\u001b[0;34m\u001b[0m\u001b[0m\n",
      "\u001b[0;31mTypeError\u001b[0m: coordinate list must contain at least 2 coordinates"
     ]
    }
   ],
   "source": [
    "for gt_name in list(image_labels.keys()):\n",
    "    img, mask = get_image_and_mask_from_name(gt_name)"
   ]
  },
  {
   "cell_type": "code",
   "execution_count": 19,
   "metadata": {
    "ExecuteTime": {
     "end_time": "2020-12-02T14:44:29.319890Z",
     "start_time": "2020-12-02T14:44:29.278551Z"
    }
   },
   "outputs": [
    {
     "data": {
      "text/plain": [
       "(array([[[153, 167, 194],\n",
       "         [150, 164, 193],\n",
       "         [144, 158, 193],\n",
       "         ...,\n",
       "         [177, 170, 151],\n",
       "         [183, 166, 150],\n",
       "         [187, 165, 152]],\n",
       " \n",
       "        [[151, 165, 192],\n",
       "         [148, 162, 191],\n",
       "         [143, 157, 192],\n",
       "         ...,\n",
       "         [141, 136, 117],\n",
       "         [165, 149, 134],\n",
       "         [177, 157, 146]],\n",
       " \n",
       "        [[149, 163, 190],\n",
       "         [147, 161, 190],\n",
       "         [143, 157, 192],\n",
       "         ...,\n",
       "         [101,  98,  83],\n",
       "         [141, 127, 116],\n",
       "         [166, 148, 138]],\n",
       " \n",
       "        ...,\n",
       " \n",
       "        [[255, 254, 255],\n",
       "         [255, 253, 255],\n",
       "         [254, 252, 255],\n",
       "         ...,\n",
       "         [122, 128, 124],\n",
       "         [126, 132, 128],\n",
       "         [130, 136, 132]],\n",
       " \n",
       "        [[254, 255, 255],\n",
       "         [254, 255, 255],\n",
       "         [254, 255, 255],\n",
       "         ...,\n",
       "         [251, 251, 251],\n",
       "         [253, 253, 253],\n",
       "         [255, 255, 255]],\n",
       " \n",
       "        [[252, 255, 255],\n",
       "         [252, 255, 255],\n",
       "         [252, 255, 255],\n",
       "         ...,\n",
       "         [255, 252, 254],\n",
       "         [255, 253, 255],\n",
       "         [255, 253, 255]]], dtype=uint8),\n",
       " array([[0, 0, 0, ..., 0, 0, 0],\n",
       "        [0, 0, 0, ..., 0, 0, 0],\n",
       "        [0, 0, 0, ..., 0, 0, 0],\n",
       "        ...,\n",
       "        [0, 0, 0, ..., 0, 0, 0],\n",
       "        [0, 0, 0, ..., 0, 0, 0],\n",
       "        [0, 0, 0, ..., 0, 0, 0]], dtype=uint8))"
      ]
     },
     "execution_count": 19,
     "metadata": {},
     "output_type": "execute_result"
    }
   ],
   "source": [
    "get_image_and_mask_from_name(gt_name)"
   ]
  },
  {
   "cell_type": "code",
   "execution_count": 20,
   "metadata": {
    "ExecuteTime": {
     "end_time": "2020-12-02T14:44:29.424492Z",
     "start_time": "2020-12-02T14:44:29.387686Z"
    }
   },
   "outputs": [
    {
     "data": {
      "text/plain": [
       "[{'transcription': '###',\n",
       "  'points': [[252, 571],\n",
       "   [260, 534],\n",
       "   [272, 507],\n",
       "   [285, 512],\n",
       "   [278, 540],\n",
       "   [267, 580]],\n",
       "  'language': 'Latin',\n",
       "  'illegibility': True},\n",
       " {'transcription': '###',\n",
       "  'points': [[276, 500], [287, 485], [301, 487], [289, 505]],\n",
       "  'language': 'Latin',\n",
       "  'illegibility': True},\n",
       " {'transcription': '###',\n",
       "  'points': [[290, 474], [304, 450], [317, 462], [302, 482]],\n",
       "  'language': 'Latin',\n",
       "  'illegibility': True},\n",
       " {'transcription': '###',\n",
       "  'points': [[389, 366],\n",
       "   [422, 345],\n",
       "   [458, 329],\n",
       "   [461, 344],\n",
       "   [430, 356],\n",
       "   [397, 378]],\n",
       "  'language': 'Latin',\n",
       "  'illegibility': True},\n",
       " {'transcription': '###',\n",
       "  'points': [[463, 325], [484, 320], [489, 336], [471, 340]],\n",
       "  'language': 'Latin',\n",
       "  'illegibility': True},\n",
       " {'transcription': '###',\n",
       "  'points': [[490, 317],\n",
       "   [520, 309],\n",
       "   [543, 306],\n",
       "   [544, 320],\n",
       "   [518, 324],\n",
       "   [493, 332]],\n",
       "  'language': 'Latin',\n",
       "  'illegibility': True},\n",
       " {'transcription': '###',\n",
       "  'points': [[551, 306],\n",
       "   [595, 303],\n",
       "   [631, 309],\n",
       "   [629, 323],\n",
       "   [590, 318],\n",
       "   [550, 320]],\n",
       "  'language': 'Latin',\n",
       "  'illegibility': True},\n",
       " {'transcription': '###',\n",
       "  'points': [[497, 272],\n",
       "   [588, 258],\n",
       "   [671, 269],\n",
       "   [665, 287],\n",
       "   [593, 275],\n",
       "   [502, 286]],\n",
       "  'language': 'Latin',\n",
       "  'illegibility': True},\n",
       " {'transcription': '###',\n",
       "  'points': [[637, 308],\n",
       "   [671, 315],\n",
       "   [687, 324],\n",
       "   [678, 337],\n",
       "   [656, 328],\n",
       "   [633, 325]],\n",
       "  'language': 'Latin',\n",
       "  'illegibility': True},\n",
       " {'transcription': '###',\n",
       "  'points': [[853, 441],\n",
       "   [878, 483],\n",
       "   [890, 509],\n",
       "   [876, 514],\n",
       "   [854, 478],\n",
       "   [840, 449]],\n",
       "  'language': 'Latin',\n",
       "  'illegibility': True},\n",
       " {'transcription': '###',\n",
       "  'points': [[892, 511], [898, 529], [882, 533], [876, 517]],\n",
       "  'language': 'Latin',\n",
       "  'illegibility': True},\n",
       " {'transcription': '###',\n",
       "  'points': [[898, 533],\n",
       "   [904, 548],\n",
       "   [908, 568],\n",
       "   [895, 573],\n",
       "   [892, 557],\n",
       "   [884, 540]],\n",
       "  'language': 'Latin',\n",
       "  'illegibility': True},\n",
       " {'transcription': '###',\n",
       "  'points': [[906, 535], [939, 524], [963, 594], [916, 613]],\n",
       "  'language': 'Latin',\n",
       "  'illegibility': True},\n",
       " {'transcription': 'MODERN',\n",
       "  'points': [[221, 588],\n",
       "   [251, 488],\n",
       "   [280, 431],\n",
       "   [312, 393],\n",
       "   [339, 367],\n",
       "   [365, 391],\n",
       "   [337, 416],\n",
       "   [311, 450],\n",
       "   [282, 499],\n",
       "   [255, 589]],\n",
       "  'language': 'Latin',\n",
       "  'illegibility': False},\n",
       " {'transcription': 'COLLEGE',\n",
       "  'points': [[364, 346],\n",
       "   [424, 308],\n",
       "   [484, 285],\n",
       "   [545, 278],\n",
       "   [602, 279],\n",
       "   [603, 309],\n",
       "   [547, 309],\n",
       "   [489, 322],\n",
       "   [431, 343],\n",
       "   [373, 373]],\n",
       "  'language': 'Latin',\n",
       "  'illegibility': False},\n",
       " {'transcription': 'OF',\n",
       "  'points': [[624, 278],\n",
       "   [638, 280],\n",
       "   [655, 279],\n",
       "   [670, 280],\n",
       "   [685, 289],\n",
       "   [674, 321],\n",
       "   [659, 318],\n",
       "   [643, 316],\n",
       "   [634, 315],\n",
       "   [619, 308]],\n",
       "  'language': 'Latin',\n",
       "  'illegibility': False},\n",
       " {'transcription': 'EDUCATION',\n",
       "  'points': [[704, 301],\n",
       "   [761, 319],\n",
       "   [818, 358],\n",
       "   [874, 418],\n",
       "   [927, 516],\n",
       "   [897, 528],\n",
       "   [847, 440],\n",
       "   [793, 387],\n",
       "   [743, 349],\n",
       "   [693, 326]],\n",
       "  'language': 'Latin',\n",
       "  'illegibility': False},\n",
       " {'transcription': '###',\n",
       "  'points': [[1018, 575], [1036, 576], [1036, 587], [1023, 587]],\n",
       "  'language': 'Latin',\n",
       "  'illegibility': True},\n",
       " {'transcription': '###',\n",
       "  'points': [[1035, 575], [1072, 574], [1075, 589], [1034, 591]],\n",
       "  'language': 'Latin',\n",
       "  'illegibility': True},\n",
       " {'transcription': '###',\n",
       "  'points': [[1073, 574], [1120, 574], [1123, 589], [1075, 591]],\n",
       "  'language': 'Latin',\n",
       "  'illegibility': True},\n",
       " {'transcription': '###',\n",
       "  'points': [[1120, 576], [1181, 575], [1181, 590], [1120, 592]],\n",
       "  'language': 'Latin',\n",
       "  'illegibility': True},\n",
       " {'transcription': 'MODERN',\n",
       "  'points': [[1018, 589],\n",
       "   [1060, 592],\n",
       "   [1103, 591],\n",
       "   [1152, 590],\n",
       "   [1195, 589],\n",
       "   [1199, 619],\n",
       "   [1158, 623],\n",
       "   [1108, 621],\n",
       "   [1066, 625],\n",
       "   [1024, 622]],\n",
       "  'language': 'Latin',\n",
       "  'illegibility': False},\n",
       " {'transcription': 'COLLEGE',\n",
       "  'points': [[1014, 621],\n",
       "   [1036, 623],\n",
       "   [1053, 620],\n",
       "   [1074, 621],\n",
       "   [1094, 619],\n",
       "   [1098, 649],\n",
       "   [1076, 649],\n",
       "   [1057, 651],\n",
       "   [1035, 647],\n",
       "   [1013, 648]],\n",
       "  'language': 'Latin',\n",
       "  'illegibility': False},\n",
       " {'transcription': '###',\n",
       "  'points': [[1094, 633], [1114, 632], [1115, 655], [1096, 653]],\n",
       "  'language': 'Latin',\n",
       "  'illegibility': True},\n",
       " {'transcription': '###',\n",
       "  'points': [[1111, 621], [1212, 623], [1214, 650], [1116, 650]],\n",
       "  'language': 'Latin',\n",
       "  'illegibility': True},\n",
       " {'transcription': '###',\n",
       "  'points': [[1020, 652], [1210, 652], [1207, 664], [1023, 665]],\n",
       "  'language': 'Latin',\n",
       "  'illegibility': True},\n",
       " {'transcription': '###',\n",
       "  'points': [[606, 697]],\n",
       "  'language': 'Latin',\n",
       "  'illegibility': True},\n",
       " {'transcription': 'Sponsored',\n",
       "  'points': [[393, 367],\n",
       "   [410, 354],\n",
       "   [426, 345],\n",
       "   [444, 337],\n",
       "   [459, 331],\n",
       "   [463, 341],\n",
       "   [448, 349],\n",
       "   [431, 355],\n",
       "   [414, 366],\n",
       "   [397, 377]],\n",
       "  'language': 'Latin',\n",
       "  'illegibility': False},\n",
       " {'transcription': 'Affliated',\n",
       "  'points': [[254, 572],\n",
       "   [258, 557],\n",
       "   [264, 537],\n",
       "   [269, 523],\n",
       "   [274, 512],\n",
       "   [285, 518],\n",
       "   [280, 527],\n",
       "   [277, 538],\n",
       "   [270, 561],\n",
       "   [267, 576]],\n",
       "  'language': 'Latin',\n",
       "  'illegibility': False},\n",
       " {'transcription': 'EDUCATION',\n",
       "  'points': [[1110, 624],\n",
       "   [1137, 623],\n",
       "   [1162, 623],\n",
       "   [1188, 623],\n",
       "   [1212, 624],\n",
       "   [1213, 652],\n",
       "   [1189, 651],\n",
       "   [1163, 651],\n",
       "   [1137, 650],\n",
       "   [1111, 651]],\n",
       "  'language': 'Latin',\n",
       "  'illegibility': False},\n",
       " {'transcription': 'to',\n",
       "  'points': [[280, 499],\n",
       "   [282, 493],\n",
       "   [284, 490],\n",
       "   [287, 487],\n",
       "   [291, 484],\n",
       "   [297, 490],\n",
       "   [295, 494],\n",
       "   [293, 497],\n",
       "   [291, 500],\n",
       "   [290, 504]],\n",
       "  'language': 'Latin',\n",
       "  'illegibility': False},\n",
       " {'transcription': 'A',\n",
       "  'points': [[499, 272],\n",
       "   [502, 271],\n",
       "   [504, 271],\n",
       "   [506, 270],\n",
       "   [509, 271],\n",
       "   [512, 280],\n",
       "   [509, 280],\n",
       "   [507, 280],\n",
       "   [504, 281],\n",
       "   [502, 283]],\n",
       "  'language': 'Latin',\n",
       "  'illegibility': False},\n",
       " {'transcription': 'muslim',\n",
       "  'points': [[514, 272],\n",
       "   [523, 270],\n",
       "   [532, 268],\n",
       "   [541, 267],\n",
       "   [548, 267],\n",
       "   [549, 275],\n",
       "   [541, 276],\n",
       "   [532, 277],\n",
       "   [524, 280],\n",
       "   [515, 280]],\n",
       "  'language': 'Latin',\n",
       "  'illegibility': False},\n",
       " {'transcription': 'minority',\n",
       "  'points': [[552, 266],\n",
       "   [562, 265],\n",
       "   [572, 264],\n",
       "   [582, 264],\n",
       "   [590, 265],\n",
       "   [591, 276],\n",
       "   [583, 274],\n",
       "   [573, 274],\n",
       "   [563, 274],\n",
       "   [553, 274]],\n",
       "  'language': 'Latin',\n",
       "  'illegibility': False},\n",
       " {'transcription': 'Instituition',\n",
       "  'points': [[609, 266],\n",
       "   [622, 266],\n",
       "   [636, 267],\n",
       "   [651, 269],\n",
       "   [666, 272],\n",
       "   [664, 282],\n",
       "   [650, 280],\n",
       "   [636, 278],\n",
       "   [622, 277],\n",
       "   [608, 274]],\n",
       "  'language': 'Latin',\n",
       "  'illegibility': False},\n",
       " {'transcription': 'Modern',\n",
       "  'points': [[493, 320],\n",
       "   [505, 315],\n",
       "   [519, 313],\n",
       "   [532, 310],\n",
       "   [544, 311],\n",
       "   [546, 320],\n",
       "   [535, 321],\n",
       "   [522, 324],\n",
       "   [509, 326],\n",
       "   [496, 329]],\n",
       "  'language': 'Latin',\n",
       "  'illegibility': False},\n",
       " {'transcription': 'Educational',\n",
       "  'points': [[552, 309],\n",
       "   [571, 305],\n",
       "   [592, 306],\n",
       "   [612, 307],\n",
       "   [633, 311],\n",
       "   [629, 319],\n",
       "   [610, 318],\n",
       "   [590, 318],\n",
       "   [572, 317],\n",
       "   [553, 318]],\n",
       "  'language': 'Latin',\n",
       "  'illegibility': False},\n",
       " {'transcription': 'Society',\n",
       "  'points': [[638, 311],\n",
       "   [649, 313],\n",
       "   [660, 317],\n",
       "   [671, 319],\n",
       "   [683, 324],\n",
       "   [680, 336],\n",
       "   [671, 332],\n",
       "   [660, 328],\n",
       "   [649, 326],\n",
       "   [638, 323]],\n",
       "  'language': 'Latin',\n",
       "  'illegibility': False},\n",
       " {'transcription': '###',\n",
       "  'points': [[687, 320],\n",
       "   [694, 324],\n",
       "   [698, 327],\n",
       "   [704, 329],\n",
       "   [710, 333],\n",
       "   [709, 345],\n",
       "   [703, 342],\n",
       "   [697, 341],\n",
       "   [689, 338],\n",
       "   [683, 335]],\n",
       "  'language': 'Latin',\n",
       "  'illegibility': True},\n",
       " {'transcription': '###',\n",
       "  'points': [[686, 323],\n",
       "   [693, 327],\n",
       "   [700, 329],\n",
       "   [706, 331],\n",
       "   [713, 333],\n",
       "   [709, 344],\n",
       "   [703, 342],\n",
       "   [697, 339],\n",
       "   [691, 338],\n",
       "   [685, 334]],\n",
       "  'language': 'Latin',\n",
       "  'illegibility': True},\n",
       " {'transcription': 'Recognized',\n",
       "  'points': [[850, 444],\n",
       "   [864, 460],\n",
       "   [875, 476],\n",
       "   [884, 492],\n",
       "   [888, 509],\n",
       "   [877, 510],\n",
       "   [869, 496],\n",
       "   [859, 481],\n",
       "   [852, 466],\n",
       "   [843, 451]],\n",
       "  'language': 'Latin',\n",
       "  'illegibility': False},\n",
       " {'transcription': 'by',\n",
       "  'points': [[891, 512],\n",
       "   [892, 519],\n",
       "   [893, 523],\n",
       "   [894, 529],\n",
       "   [895, 534],\n",
       "   [882, 534],\n",
       "   [881, 530],\n",
       "   [879, 526],\n",
       "   [878, 521],\n",
       "   [877, 516]],\n",
       "  'language': 'Latin',\n",
       "  'illegibility': False},\n",
       " {'transcription': 'NCTE',\n",
       "  'points': [[897, 532],\n",
       "   [901, 542],\n",
       "   [903, 552],\n",
       "   [905, 561],\n",
       "   [907, 573],\n",
       "   [896, 574],\n",
       "   [893, 566],\n",
       "   [890, 555],\n",
       "   [888, 545],\n",
       "   [886, 535]],\n",
       "  'language': 'Latin',\n",
       "  'illegibility': False},\n",
       " {'transcription': '###',\n",
       "  'points': [[942, 530],\n",
       "   [947, 546],\n",
       "   [952, 561],\n",
       "   [954, 578],\n",
       "   [959, 595],\n",
       "   [916, 601],\n",
       "   [913, 584],\n",
       "   [912, 568],\n",
       "   [912, 552],\n",
       "   [914, 536]],\n",
       "  'language': 'Latin',\n",
       "  'illegibility': True},\n",
       " {'transcription': 'A',\n",
       "  'points': [[1024, 577],\n",
       "   [1027, 576],\n",
       "   [1029, 576],\n",
       "   [1031, 575],\n",
       "   [1035, 576],\n",
       "   [1037, 589],\n",
       "   [1034, 589],\n",
       "   [1032, 589],\n",
       "   [1029, 589],\n",
       "   [1026, 589]],\n",
       "  'language': 'Latin',\n",
       "  'illegibility': False},\n",
       " {'transcription': 'MUSLIM',\n",
       "  'points': [[1038, 577],\n",
       "   [1047, 576],\n",
       "   [1056, 576],\n",
       "   [1065, 574],\n",
       "   [1072, 577],\n",
       "   [1073, 589],\n",
       "   [1065, 588],\n",
       "   [1056, 588],\n",
       "   [1047, 589],\n",
       "   [1038, 589]],\n",
       "  'language': 'Latin',\n",
       "  'illegibility': False},\n",
       " {'transcription': '###',\n",
       "  'points': [[1075, 576],\n",
       "   [1085, 576],\n",
       "   [1096, 575],\n",
       "   [1108, 575],\n",
       "   [1120, 575],\n",
       "   [1120, 590],\n",
       "   [1108, 590],\n",
       "   [1097, 590],\n",
       "   [1085, 588],\n",
       "   [1075, 588]],\n",
       "  'language': 'Latin',\n",
       "  'illegibility': True},\n",
       " {'transcription': 'INSTITUTION',\n",
       "  'points': [[1126, 577],\n",
       "   [1141, 576],\n",
       "   [1155, 576],\n",
       "   [1171, 575],\n",
       "   [1184, 577],\n",
       "   [1183, 590],\n",
       "   [1168, 589],\n",
       "   [1153, 589],\n",
       "   [1140, 589],\n",
       "   [1126, 589]],\n",
       "  'language': 'Latin',\n",
       "  'illegibility': False},\n",
       " {'transcription': '136',\n",
       "  'points': [[1025, 653],\n",
       "   [1030, 652],\n",
       "   [1035, 653],\n",
       "   [1040, 652],\n",
       "   [1043, 652],\n",
       "   [1042, 665],\n",
       "   [1037, 664],\n",
       "   [1033, 664],\n",
       "   [1029, 664],\n",
       "   [1025, 663]],\n",
       "  'language': 'Latin',\n",
       "  'illegibility': False},\n",
       " {'transcription': 'BLOCK 1',\n",
       "  'points': [[1043, 652],\n",
       "   [1050, 652],\n",
       "   [1058, 652],\n",
       "   [1068, 651],\n",
       "   [1075, 652],\n",
       "   [1076, 667],\n",
       "   [1069, 665],\n",
       "   [1062, 665],\n",
       "   [1053, 666],\n",
       "   [1045, 666]],\n",
       "  'language': 'Latin',\n",
       "  'illegibility': False},\n",
       " {'transcription': '###',\n",
       "  'points': [[1076, 656],\n",
       "   [1110, 655],\n",
       "   [1144, 655],\n",
       "   [1178, 656],\n",
       "   [1210, 656],\n",
       "   [1212, 665],\n",
       "   [1179, 665],\n",
       "   [1145, 665],\n",
       "   [1111, 664],\n",
       "   [1077, 664]],\n",
       "  'language': 'Latin',\n",
       "  'illegibility': True}]"
      ]
     },
     "execution_count": 20,
     "metadata": {},
     "output_type": "execute_result"
    }
   ],
   "source": [
    "image_labels[gt_name]"
   ]
  },
  {
   "cell_type": "markdown",
   "metadata": {},
   "source": [
    "# Dataset"
   ]
  },
  {
   "cell_type": "code",
   "execution_count": 6,
   "metadata": {
    "ExecuteTime": {
     "end_time": "2020-12-02T14:27:16.799659Z",
     "start_time": "2020-12-02T14:27:16.717461Z"
    }
   },
   "outputs": [],
   "source": [
    "class ArTDataset(Dataset):\n",
    "    \n",
    "    \n",
    "    resize_tfms = A.Resize(768, 768)\n",
    "    resize_mask_tfms = A.Resize(768//4, 768//4)\n",
    "    \n",
    "    train_tfms = A.Compose([\n",
    "        A.HorizontalFlip(p=0.5),\n",
    "        A.RandomBrightnessContrast(p=0.2),\n",
    "        A.IAAAffine(scale=(0.9, 1.1), translate_percent=(-0.1, 0.1), rotate=(-10, 10), p=0.3),\n",
    "    ])\n",
    "    \n",
    "    lambda_tfms = tv.transforms.Compose([\n",
    "        tv.transforms.ToTensor(),\n",
    "        tv.transforms.Lambda(lambda x: 2 * x -1) # for EffNet advprop\n",
    "    ]) \n",
    "        \n",
    "    def __init__(self, image_names:str, image_labels:dict, is_train=False):\n",
    "        self.image_names = image_names\n",
    "        self.image_labels = image_labels\n",
    "        self.is_train = is_train\n",
    "        \n",
    "    def __len__(self,):\n",
    "        return len(self.image_names)\n",
    "        \n",
    "    def __getitem__(self, idx):\n",
    "        gt_name = self.image_names[idx]\n",
    "        image_org, mask = get_image_and_mask_from_name(gt_name)\n",
    "        \n",
    "        # RESIZE\n",
    "        transformed = self.resize_tfms(image=image_org, mask=mask)\n",
    "        image = transformed['image']\n",
    "        mask = transformed['mask']\n",
    "        \n",
    "        if self.is_train:\n",
    "            transformed = self.train_tfms(image=image, mask=mask)\n",
    "            image = transformed['image']\n",
    "            mask = transformed['mask']\n",
    "\n",
    "        # NORMALIZE\n",
    "        image = self.lambda_tfms(image)\n",
    "        \n",
    "        \n",
    "        # RESIZE MASK\n",
    "        transformed = self.resize_mask_tfms(image=image_org, mask=mask)\n",
    "        mask = transformed['mask']\n",
    "        \n",
    "        return image, mask"
   ]
  },
  {
   "cell_type": "code",
   "execution_count": 7,
   "metadata": {
    "ExecuteTime": {
     "end_time": "2020-12-02T14:27:16.908891Z",
     "start_time": "2020-12-02T14:27:16.802870Z"
    }
   },
   "outputs": [],
   "source": [
    "class ArTDataModule(pl.LightningDataModule):\n",
    "    \n",
    "    def __init__(self, image_labels, val_pct=0.1, train_bs=2, valid_bs=4):\n",
    "        super().__init__()\n",
    "        self.image_labels = image_labels\n",
    "        self.image_names = sorted(list(image_labels.keys()))\n",
    "        self.train_bs = train_bs\n",
    "        self.valid_bs = valid_bs\n",
    "        self.val_pct = val_pct\n",
    "        \n",
    "    def setup(self, stage):\n",
    "        if stage == 'fit':\n",
    "            train_size = round(len(self.image_names) * (1. - self.val_pct))\n",
    "            self.train_dataset = ArTDataset(self.image_names[:train_size], image_labels)\n",
    "            self.valid_dataset = ArTDataset(self.image_names[train_size:], image_labels)\n",
    "        if stage == 'test':\n",
    "            self.test_dataset = self.valid_dataset\n",
    "            \n",
    "    \n",
    "    def train_dataloader(self):\n",
    "        return DataLoader(self.train_dataset, batch_size=self.train_bs, shuffle=True)\n",
    "\n",
    "    def val_dataloader(self):\n",
    "        return DataLoader(self.valid_dataset, batch_size=self.valid_bs)\n",
    "\n",
    "    def test_dataloader(self):\n",
    "        return DataLoader(self.test_dataset, batch_size=self.valid_bs)"
   ]
  },
  {
   "cell_type": "code",
   "execution_count": 8,
   "metadata": {
    "ExecuteTime": {
     "end_time": "2020-12-02T14:27:17.008706Z",
     "start_time": "2020-12-02T14:27:16.913469Z"
    }
   },
   "outputs": [],
   "source": [
    "def visualize_batch(img, mask):\n",
    "    grid_image = tv.utils.make_grid(img, nrow=8)\n",
    "    iam = ia.SegmentationMapsOnImage(mask.permute(1,2,0).numpy(), shape=mask.shape[1:])\n",
    "    iam = iam.resize(768)\n",
    "    mask = torch.tensor(iam.arr).permute(2, 0, 1)\n",
    "\n",
    "    grid_mask = tv.utils.make_grid(mask.unsqueeze(1), nrow=8)\n",
    "\n",
    "    plt.figure(figsize=(20,20))\n",
    "    grid_image = (grid_image + 1)/2\n",
    "    plt.imshow(grid_image.permute(1,2,0))\n",
    "    plt.imshow(grid_mask.permute(1,2,0)*255, alpha=.5)"
   ]
  },
  {
   "cell_type": "markdown",
   "metadata": {},
   "source": [
    "# Model"
   ]
  },
  {
   "cell_type": "code",
   "execution_count": 9,
   "metadata": {
    "ExecuteTime": {
     "end_time": "2020-12-02T14:27:17.081400Z",
     "start_time": "2020-12-02T14:27:17.012049Z"
    }
   },
   "outputs": [],
   "source": [
    "class DiceLoss(nn.Module):\n",
    "    \n",
    "    def forward(self, y_true, scores, eps=1e-8):\n",
    "        # compute the actual dice score\n",
    "        dims = (1, 2)\n",
    "        intersection = torch.sum(scores * y_true, dims)\n",
    "        cardinality = torch.sum(scores + y_true, dims)\n",
    "\n",
    "        dice_score = 2. * intersection / (cardinality + eps)\n",
    "        return torch.mean(-dice_score + 1.)"
   ]
  },
  {
   "cell_type": "code",
   "execution_count": 10,
   "metadata": {
    "ExecuteTime": {
     "end_time": "2020-12-02T14:27:17.306261Z",
     "start_time": "2020-12-02T14:27:17.084689Z"
    }
   },
   "outputs": [],
   "source": [
    "class EffDetSegmentationPart(EfficientDetDoesEAST):\n",
    "    \n",
    "    def forward(self, x):\n",
    "        _, _, height, width = x.shape\n",
    "        feats = self.backbone(x)\n",
    "\n",
    "        scores = self.scores(feats)\n",
    "        scores = torch.sigmoid(scores)\n",
    "\n",
    "        score_map = scores[:, 0] # take only the segmentation scores\n",
    "        return score_map"
   ]
  },
  {
   "cell_type": "markdown",
   "metadata": {},
   "source": [
    "# Lightning"
   ]
  },
  {
   "cell_type": "code",
   "execution_count": 11,
   "metadata": {
    "ExecuteTime": {
     "end_time": "2020-12-02T14:27:17.411804Z",
     "start_time": "2020-12-02T14:27:17.309548Z"
    }
   },
   "outputs": [],
   "source": [
    "class EfficientDetDoesPL(pl.LightningModule):\n",
    "\n",
    "    '''\n",
    "        Properties needed:\n",
    "            - loss_fct (nn.Module)\n",
    "    '''\n",
    "    \n",
    "    def get_optimizer(self,) -> torch.optim.Optimizer:\n",
    "        optimizer_name = self.hparams.optimizer\n",
    "        lr = self.hparams.lr\n",
    "        optimizer_hparams = self.hparams.optimizer_kwargs\n",
    "        optimizer = getattr(torch.optim, optimizer_name)\n",
    "        return optimizer(self.parameters(), lr=lr, **optimizer_hparams)\n",
    "        \n",
    "    def _average_key(self, outputs, key: str) -> torch.FloatTensor:\n",
    "        return torch.stack([o[key] for o in outputs]).float().mean()\n",
    "\n",
    "    def _concat_lists_by_key(self, outputs, key):\n",
    "        return sum([o[key] for o in outputs], [])\n",
    "    \n",
    "    def _handle_batch(self, batch):\n",
    "        image, gt = batch\n",
    "        scores = self(image)\n",
    "        \n",
    "        loss = self.loss_fct(gt, scores)\n",
    "        return (loss, scores)\n",
    "\n",
    "    def _handle_eval_batch(self, batch):\n",
    "        outputs = self._handle_batch(batch)\n",
    "        loss, _ = outputs        \n",
    "        return loss\n",
    "\n",
    "    def _handle_eval_epoch_end(self, outputs, phase):\n",
    "        loss_avg = self._average_key(outputs, f'{phase}_loss')\n",
    "        return loss_avg\n",
    "\n",
    "    def get_loss_fct(self,):\n",
    "        return DiceLoss()\n",
    "\n",
    "    ## FUNCTIONS NEEDED BY PYTORCH LIGHTNING ##\n",
    "\n",
    "    def training_step(self, batch, batch_idx):\n",
    "        self.model.backbone.freeze_bn()\n",
    "        \n",
    "        outputs = self._handle_batch(batch)\n",
    "        loss = outputs[0]        \n",
    "        self.log('train_loss', loss, on_step=True, prog_bar=False, logger=True)\n",
    "        try:\n",
    "            self.logger.experiment.log_metric('nep_train_loss', loss)\n",
    "        except:\n",
    "            pass\n",
    "        return {'loss': loss}\n",
    "        \n",
    "    def validation_step(self, batch, batch_idx):\n",
    "        loss = self._handle_eval_batch(batch)\n",
    "        return {'val_loss': loss}\n",
    "\n",
    "    def test_step(self, batch, batch_idx):\n",
    "        loss = self._handle_eval_batch(batch)\n",
    "        return {'test_loss': loss}\n",
    "\n",
    "    def validation_epoch_end(self, outputs):\n",
    "        loss_avg = self._handle_eval_epoch_end(outputs, phase='val')        \n",
    "        self.log('val_loss', loss_avg, on_epoch=True, prog_bar=True, logger=True)\n",
    "\n",
    "    def test_epoch_end(self, outputs):\n",
    "        loss_avg = self._handle_eval_epoch_end(outputs, phase='test')\n",
    "        self.log('test_loss', loss_avg, on_epoch=True, prog_bar=True, logger=True)\n",
    "        return {'test_loss': loss_avg}\n",
    "    \n",
    "    def configure_optimizers(self) -> torch.optim.Optimizer:\n",
    "        optimizer = self.get_optimizer()\n",
    "        return optimizer\n",
    "    \n",
    "    def forward(self, *args, **kwargs):\n",
    "        return self.model(*args, **kwargs)"
   ]
  },
  {
   "cell_type": "code",
   "execution_count": 12,
   "metadata": {
    "ExecuteTime": {
     "end_time": "2020-12-02T14:27:17.510022Z",
     "start_time": "2020-12-02T14:27:17.414997Z"
    }
   },
   "outputs": [],
   "source": [
    "class ArTTuner(EfficientDetDoesPL):\n",
    "\n",
    "    default_hparams = {\n",
    "        \"coef\": 4,\n",
    "        \"advprop\": True,\n",
    "        \"lr\": 5e-4,\n",
    "        \"optimizer\": 'Adam',\n",
    "        \"optimizer_kwargs\": {},\n",
    "        \"deterministic\": False,\n",
    "        \"seed\": 0,\n",
    "    }\n",
    "\n",
    "    def __init__(self, hparams=None, **kwargs):\n",
    "\n",
    "        self.model_kwargs = kwargs\n",
    "        self.hparams = self._construct_hparams(hparams)\n",
    "        \n",
    "        super(EfficientDetDoesPL, self).__init__()\n",
    "        \n",
    "        self.model = EffDetSegmentationPart(advprop=self.hparams.advprop, compound_coef=self.hparams.coef)\n",
    "\n",
    "        self.loss_fct = self.get_loss_fct()\n",
    "\n",
    "    def _construct_hparams(self, hparams):\n",
    "        default_hparams = self.default_hparams.copy()\n",
    "\n",
    "        if hparams is not None:\n",
    "            default_hparams.update(hparams)\n",
    "\n",
    "        default_hparams.update(self.model_kwargs)\n",
    "\n",
    "        if default_hparams['deterministic']:\n",
    "            pl.seed_everything(default_hparams['seed'])\n",
    "\n",
    "        return argparse.Namespace(**default_hparams)"
   ]
  },
  {
   "cell_type": "code",
   "execution_count": 13,
   "metadata": {
    "ExecuteTime": {
     "end_time": "2020-12-02T14:27:17.580701Z",
     "start_time": "2020-12-02T14:27:17.513071Z"
    }
   },
   "outputs": [],
   "source": [
    "trainer_hparams = {\n",
    "    'gpus': 1,\n",
    "    'max_epochs': 8\n",
    "}"
   ]
  },
  {
   "cell_type": "code",
   "execution_count": 14,
   "metadata": {
    "ExecuteTime": {
     "end_time": "2020-12-02T14:27:17.655755Z",
     "start_time": "2020-12-02T14:27:17.583822Z"
    }
   },
   "outputs": [],
   "source": [
    "dm_kwargs = {\n",
    "    'val_pct': 0.1,\n",
    "    'train_bs': 4,\n",
    "    'valid_bs': 6\n",
    "}"
   ]
  },
  {
   "cell_type": "code",
   "execution_count": 15,
   "metadata": {
    "ExecuteTime": {
     "end_time": "2020-12-02T14:27:18.986904Z",
     "start_time": "2020-12-02T14:27:18.982968Z"
    }
   },
   "outputs": [],
   "source": [
    "model_hparams = {}"
   ]
  },
  {
   "cell_type": "code",
   "execution_count": 16,
   "metadata": {
    "ExecuteTime": {
     "end_time": "2020-12-02T14:27:19.280177Z",
     "start_time": "2020-12-02T14:27:19.275737Z"
    }
   },
   "outputs": [],
   "source": [
    "params = dict(**dm_kwargs, **model_hparams, **trainer_hparams)"
   ]
  },
  {
   "cell_type": "code",
   "execution_count": 17,
   "metadata": {
    "ExecuteTime": {
     "end_time": "2020-12-02T14:27:19.876950Z",
     "start_time": "2020-12-02T14:27:19.630004Z"
    }
   },
   "outputs": [
    {
     "name": "stdout",
     "output_type": "stream",
     "text": [
      "Loaded pretrained weights for efficientnet-b4\n"
     ]
    }
   ],
   "source": [
    "model_tuner = ArTTuner()"
   ]
  },
  {
   "cell_type": "code",
   "execution_count": 19,
   "metadata": {
    "ExecuteTime": {
     "end_time": "2020-12-02T14:27:32.195383Z",
     "start_time": "2020-12-02T14:27:32.182113Z"
    }
   },
   "outputs": [],
   "source": [
    "_ = model_tuner.model.backbone.backbone_net.requires_grad_(False)"
   ]
  },
  {
   "cell_type": "code",
   "execution_count": 85,
   "metadata": {
    "ExecuteTime": {
     "end_time": "2020-12-02T14:22:41.743969Z",
     "start_time": "2020-12-02T14:22:41.741020Z"
    }
   },
   "outputs": [],
   "source": [
    "data_module = ArTDataModule(image_labels, **dm_kwargs)"
   ]
  },
  {
   "cell_type": "code",
   "execution_count": 86,
   "metadata": {
    "ExecuteTime": {
     "end_time": "2020-12-02T14:22:47.124470Z",
     "start_time": "2020-12-02T14:22:41.785757Z"
    },
    "scrolled": true
   },
   "outputs": [
    {
     "name": "stdout",
     "output_type": "stream",
     "text": [
      "https://ui.neptune.ai/israelcamp/TextDetection/e/TD-5\n"
     ]
    },
    {
     "name": "stderr",
     "output_type": "stream",
     "text": [
      "NeptuneLogger will work in online mode\n"
     ]
    }
   ],
   "source": [
    "neptune_logger = NeptuneLogger(\n",
    "    project_name='israelcamp/TextDetection',\n",
    "    experiment_name='effdet-baseline-art',  # Optional,\n",
    "    params=params,  # Optional,\n",
    "    tags=[model_tuner.hparams.coef, model_tuner.hparams.advprop],  # Optional,\n",
    ")"
   ]
  },
  {
   "cell_type": "code",
   "execution_count": 87,
   "metadata": {
    "ExecuteTime": {
     "end_time": "2020-12-02T14:22:47.135900Z",
     "start_time": "2020-12-02T14:22:47.128644Z"
    }
   },
   "outputs": [],
   "source": [
    "filepath = 'ckps/ArT-effdet-4advprop-{epoch}-{val_loss:.4f}'\n",
    "checkpoint_callback = pl.callbacks.ModelCheckpoint(\n",
    "    filepath=filepath,\n",
    "    monitor='val_loss',\n",
    "    mode='min',\n",
    "    save_top_k=2\n",
    ")"
   ]
  },
  {
   "cell_type": "code",
   "execution_count": 88,
   "metadata": {
    "ExecuteTime": {
     "end_time": "2020-12-02T14:22:47.219778Z",
     "start_time": "2020-12-02T14:22:47.139491Z"
    }
   },
   "outputs": [
    {
     "name": "stderr",
     "output_type": "stream",
     "text": [
      "GPU available: True, used: True\n",
      "TPU available: False, using: 0 TPU cores\n",
      "LOCAL_RANK: 0 - CUDA_VISIBLE_DEVICES: [0]\n"
     ]
    }
   ],
   "source": [
    "trainer = pl.Trainer(**trainer_hparams, logger=neptune_logger, checkpoint_callback=checkpoint_callback)"
   ]
  },
  {
   "cell_type": "code",
   "execution_count": 89,
   "metadata": {
    "ExecuteTime": {
     "end_time": "2020-12-02T14:24:38.090849Z",
     "start_time": "2020-12-02T14:22:47.223790Z"
    }
   },
   "outputs": [
    {
     "name": "stderr",
     "output_type": "stream",
     "text": [
      "\n",
      "  | Name     | Type                   | Params\n",
      "----------------------------------------------------\n",
      "0 | model    | EffDetSegmentationPart | 17 M  \n",
      "1 | loss_fct | DiceLoss               | 0     \n",
      "/opt/conda/lib/python3.7/site-packages/pytorch_lightning/utilities/distributed.py:45: UserWarning: The dataloader, val dataloader 0, does not have many workers which may be a bottleneck. Consider increasing the value of the `num_workers` argument` (try 20 which is the number of cpus on this machine) in the `DataLoader` init to improve performance.\n",
      "  warnings.warn(*args, **kwargs)\n"
     ]
    },
    {
     "data": {
      "application/vnd.jupyter.widget-view+json": {
       "model_id": "",
       "version_major": 2,
       "version_minor": 0
      },
      "text/plain": [
       "HBox(children=(FloatProgress(value=1.0, bar_style='info', description='Validation sanity check', layout=Layout…"
      ]
     },
     "metadata": {},
     "output_type": "display_data"
    },
    {
     "name": "stderr",
     "output_type": "stream",
     "text": [
      "/opt/conda/lib/python3.7/site-packages/pytorch_lightning/utilities/distributed.py:45: UserWarning: The dataloader, train dataloader, does not have many workers which may be a bottleneck. Consider increasing the value of the `num_workers` argument` (try 20 which is the number of cpus on this machine) in the `DataLoader` init to improve performance.\n",
      "  warnings.warn(*args, **kwargs)\n"
     ]
    },
    {
     "data": {
      "application/vnd.jupyter.widget-view+json": {
       "model_id": "620e7787523d4769ba4aa46183e550b7",
       "version_major": 2,
       "version_minor": 0
      },
      "text/plain": [
       "HBox(children=(FloatProgress(value=1.0, bar_style='info', description='Training', layout=Layout(flex='2'), max…"
      ]
     },
     "metadata": {},
     "output_type": "display_data"
    },
    {
     "data": {
      "application/vnd.jupyter.widget-view+json": {
       "model_id": "75d118ce40e2406482f15c814cd5956a",
       "version_major": 2,
       "version_minor": 0
      },
      "text/plain": [
       "HBox(children=(FloatProgress(value=1.0, bar_style='info', description='Validating', layout=Layout(flex='2'), m…"
      ]
     },
     "metadata": {},
     "output_type": "display_data"
    },
    {
     "ename": "RuntimeError",
     "evalue": "stack expects each tensor to be equal size, but got [3, 768, 768] at entry 0 and [4, 768, 768] at entry 1",
     "output_type": "error",
     "traceback": [
      "\u001b[0;31m---------------------------------------------------------------------------\u001b[0m",
      "\u001b[0;31mRuntimeError\u001b[0m                              Traceback (most recent call last)",
      "\u001b[0;32m<ipython-input-89-8b8cb52f1bd7>\u001b[0m in \u001b[0;36m<module>\u001b[0;34m\u001b[0m\n\u001b[0;32m----> 1\u001b[0;31m \u001b[0mtrainer\u001b[0m\u001b[0;34m.\u001b[0m\u001b[0mfit\u001b[0m\u001b[0;34m(\u001b[0m\u001b[0mmodel_tuner\u001b[0m\u001b[0;34m,\u001b[0m \u001b[0mdatamodule\u001b[0m\u001b[0;34m=\u001b[0m\u001b[0mdata_module\u001b[0m\u001b[0;34m)\u001b[0m\u001b[0;34m\u001b[0m\u001b[0;34m\u001b[0m\u001b[0m\n\u001b[0m",
      "\u001b[0;32m/opt/conda/lib/python3.7/site-packages/pytorch_lightning/trainer/trainer.py\u001b[0m in \u001b[0;36mfit\u001b[0;34m(self, model, train_dataloader, val_dataloaders, datamodule)\u001b[0m\n\u001b[1;32m    442\u001b[0m         \u001b[0mself\u001b[0m\u001b[0;34m.\u001b[0m\u001b[0mcall_hook\u001b[0m\u001b[0;34m(\u001b[0m\u001b[0;34m'on_fit_start'\u001b[0m\u001b[0;34m)\u001b[0m\u001b[0;34m\u001b[0m\u001b[0;34m\u001b[0m\u001b[0m\n\u001b[1;32m    443\u001b[0m \u001b[0;34m\u001b[0m\u001b[0m\n\u001b[0;32m--> 444\u001b[0;31m         \u001b[0mresults\u001b[0m \u001b[0;34m=\u001b[0m \u001b[0mself\u001b[0m\u001b[0;34m.\u001b[0m\u001b[0maccelerator_backend\u001b[0m\u001b[0;34m.\u001b[0m\u001b[0mtrain\u001b[0m\u001b[0;34m(\u001b[0m\u001b[0;34m)\u001b[0m\u001b[0;34m\u001b[0m\u001b[0;34m\u001b[0m\u001b[0m\n\u001b[0m\u001b[1;32m    445\u001b[0m         \u001b[0mself\u001b[0m\u001b[0;34m.\u001b[0m\u001b[0maccelerator_backend\u001b[0m\u001b[0;34m.\u001b[0m\u001b[0mteardown\u001b[0m\u001b[0;34m(\u001b[0m\u001b[0;34m)\u001b[0m\u001b[0;34m\u001b[0m\u001b[0;34m\u001b[0m\u001b[0m\n\u001b[1;32m    446\u001b[0m \u001b[0;34m\u001b[0m\u001b[0m\n",
      "\u001b[0;32m/opt/conda/lib/python3.7/site-packages/pytorch_lightning/accelerators/gpu_accelerator.py\u001b[0m in \u001b[0;36mtrain\u001b[0;34m(self)\u001b[0m\n\u001b[1;32m     52\u001b[0m \u001b[0;34m\u001b[0m\u001b[0m\n\u001b[1;32m     53\u001b[0m         \u001b[0;31m# train or test\u001b[0m\u001b[0;34m\u001b[0m\u001b[0;34m\u001b[0m\u001b[0;34m\u001b[0m\u001b[0m\n\u001b[0;32m---> 54\u001b[0;31m         \u001b[0mresults\u001b[0m \u001b[0;34m=\u001b[0m \u001b[0mself\u001b[0m\u001b[0;34m.\u001b[0m\u001b[0mtrain_or_test\u001b[0m\u001b[0;34m(\u001b[0m\u001b[0;34m)\u001b[0m\u001b[0;34m\u001b[0m\u001b[0;34m\u001b[0m\u001b[0m\n\u001b[0m\u001b[1;32m     55\u001b[0m         \u001b[0;32mreturn\u001b[0m \u001b[0mresults\u001b[0m\u001b[0;34m\u001b[0m\u001b[0;34m\u001b[0m\u001b[0m\n\u001b[1;32m     56\u001b[0m \u001b[0;34m\u001b[0m\u001b[0m\n",
      "\u001b[0;32m/opt/conda/lib/python3.7/site-packages/pytorch_lightning/accelerators/accelerator.py\u001b[0m in \u001b[0;36mtrain_or_test\u001b[0;34m(self)\u001b[0m\n\u001b[1;32m     66\u001b[0m             \u001b[0mresults\u001b[0m \u001b[0;34m=\u001b[0m \u001b[0mself\u001b[0m\u001b[0;34m.\u001b[0m\u001b[0mtrainer\u001b[0m\u001b[0;34m.\u001b[0m\u001b[0mrun_test\u001b[0m\u001b[0;34m(\u001b[0m\u001b[0;34m)\u001b[0m\u001b[0;34m\u001b[0m\u001b[0;34m\u001b[0m\u001b[0m\n\u001b[1;32m     67\u001b[0m         \u001b[0;32melse\u001b[0m\u001b[0;34m:\u001b[0m\u001b[0;34m\u001b[0m\u001b[0;34m\u001b[0m\u001b[0m\n\u001b[0;32m---> 68\u001b[0;31m             \u001b[0mresults\u001b[0m \u001b[0;34m=\u001b[0m \u001b[0mself\u001b[0m\u001b[0;34m.\u001b[0m\u001b[0mtrainer\u001b[0m\u001b[0;34m.\u001b[0m\u001b[0mtrain\u001b[0m\u001b[0;34m(\u001b[0m\u001b[0;34m)\u001b[0m\u001b[0;34m\u001b[0m\u001b[0;34m\u001b[0m\u001b[0m\n\u001b[0m\u001b[1;32m     69\u001b[0m         \u001b[0;32mreturn\u001b[0m \u001b[0mresults\u001b[0m\u001b[0;34m\u001b[0m\u001b[0;34m\u001b[0m\u001b[0m\n\u001b[1;32m     70\u001b[0m \u001b[0;34m\u001b[0m\u001b[0m\n",
      "\u001b[0;32m/opt/conda/lib/python3.7/site-packages/pytorch_lightning/trainer/trainer.py\u001b[0m in \u001b[0;36mtrain\u001b[0;34m(self)\u001b[0m\n\u001b[1;32m    491\u001b[0m \u001b[0;34m\u001b[0m\u001b[0m\n\u001b[1;32m    492\u001b[0m                 \u001b[0;31m# run train epoch\u001b[0m\u001b[0;34m\u001b[0m\u001b[0;34m\u001b[0m\u001b[0;34m\u001b[0m\u001b[0m\n\u001b[0;32m--> 493\u001b[0;31m                 \u001b[0mself\u001b[0m\u001b[0;34m.\u001b[0m\u001b[0mtrain_loop\u001b[0m\u001b[0;34m.\u001b[0m\u001b[0mrun_training_epoch\u001b[0m\u001b[0;34m(\u001b[0m\u001b[0;34m)\u001b[0m\u001b[0;34m\u001b[0m\u001b[0;34m\u001b[0m\u001b[0m\n\u001b[0m\u001b[1;32m    494\u001b[0m \u001b[0;34m\u001b[0m\u001b[0m\n\u001b[1;32m    495\u001b[0m                 \u001b[0;32mif\u001b[0m \u001b[0mself\u001b[0m\u001b[0;34m.\u001b[0m\u001b[0mmax_steps\u001b[0m \u001b[0;32mand\u001b[0m \u001b[0mself\u001b[0m\u001b[0;34m.\u001b[0m\u001b[0mmax_steps\u001b[0m \u001b[0;34m<=\u001b[0m \u001b[0mself\u001b[0m\u001b[0;34m.\u001b[0m\u001b[0mglobal_step\u001b[0m\u001b[0;34m:\u001b[0m\u001b[0;34m\u001b[0m\u001b[0;34m\u001b[0m\u001b[0m\n",
      "\u001b[0;32m/opt/conda/lib/python3.7/site-packages/pytorch_lightning/trainer/training_loop.py\u001b[0m in \u001b[0;36mrun_training_epoch\u001b[0;34m(self)\u001b[0m\n\u001b[1;32m    579\u001b[0m             \u001b[0mshould_check_val\u001b[0m \u001b[0;34m=\u001b[0m \u001b[0mself\u001b[0m\u001b[0;34m.\u001b[0m\u001b[0mshould_check_val_fx\u001b[0m\u001b[0;34m(\u001b[0m\u001b[0mbatch_idx\u001b[0m\u001b[0;34m,\u001b[0m \u001b[0mis_last_batch\u001b[0m\u001b[0;34m)\u001b[0m\u001b[0;34m\u001b[0m\u001b[0;34m\u001b[0m\u001b[0m\n\u001b[1;32m    580\u001b[0m             \u001b[0;32mif\u001b[0m \u001b[0mshould_check_val\u001b[0m\u001b[0;34m:\u001b[0m\u001b[0;34m\u001b[0m\u001b[0;34m\u001b[0m\u001b[0m\n\u001b[0;32m--> 581\u001b[0;31m                 \u001b[0mself\u001b[0m\u001b[0;34m.\u001b[0m\u001b[0mtrainer\u001b[0m\u001b[0;34m.\u001b[0m\u001b[0mrun_evaluation\u001b[0m\u001b[0;34m(\u001b[0m\u001b[0mtest_mode\u001b[0m\u001b[0;34m=\u001b[0m\u001b[0;32mFalse\u001b[0m\u001b[0;34m)\u001b[0m\u001b[0;34m\u001b[0m\u001b[0;34m\u001b[0m\u001b[0m\n\u001b[0m\u001b[1;32m    582\u001b[0m \u001b[0;34m\u001b[0m\u001b[0m\n\u001b[1;32m    583\u001b[0m             \u001b[0;31m# -----------------------------------------\u001b[0m\u001b[0;34m\u001b[0m\u001b[0;34m\u001b[0m\u001b[0;34m\u001b[0m\u001b[0m\n",
      "\u001b[0;32m/opt/conda/lib/python3.7/site-packages/pytorch_lightning/trainer/trainer.py\u001b[0m in \u001b[0;36mrun_evaluation\u001b[0;34m(self, test_mode, max_batches)\u001b[0m\n\u001b[1;32m    564\u001b[0m             \u001b[0mdl_max_batches\u001b[0m \u001b[0;34m=\u001b[0m \u001b[0mself\u001b[0m\u001b[0;34m.\u001b[0m\u001b[0mevaluation_loop\u001b[0m\u001b[0;34m.\u001b[0m\u001b[0mmax_batches\u001b[0m\u001b[0;34m[\u001b[0m\u001b[0mdataloader_idx\u001b[0m\u001b[0;34m]\u001b[0m\u001b[0;34m\u001b[0m\u001b[0;34m\u001b[0m\u001b[0m\n\u001b[1;32m    565\u001b[0m \u001b[0;34m\u001b[0m\u001b[0m\n\u001b[0;32m--> 566\u001b[0;31m             \u001b[0;32mfor\u001b[0m \u001b[0mbatch_idx\u001b[0m\u001b[0;34m,\u001b[0m \u001b[0mbatch\u001b[0m \u001b[0;32min\u001b[0m \u001b[0menumerate\u001b[0m\u001b[0;34m(\u001b[0m\u001b[0mdataloader\u001b[0m\u001b[0;34m)\u001b[0m\u001b[0;34m:\u001b[0m\u001b[0;34m\u001b[0m\u001b[0;34m\u001b[0m\u001b[0m\n\u001b[0m\u001b[1;32m    567\u001b[0m                 \u001b[0;32mif\u001b[0m \u001b[0mbatch\u001b[0m \u001b[0;32mis\u001b[0m \u001b[0;32mNone\u001b[0m\u001b[0;34m:\u001b[0m\u001b[0;34m\u001b[0m\u001b[0;34m\u001b[0m\u001b[0m\n\u001b[1;32m    568\u001b[0m                     \u001b[0;32mcontinue\u001b[0m\u001b[0;34m\u001b[0m\u001b[0;34m\u001b[0m\u001b[0m\n",
      "\u001b[0;32m/opt/conda/lib/python3.7/site-packages/torch/utils/data/dataloader.py\u001b[0m in \u001b[0;36m__next__\u001b[0;34m(self)\u001b[0m\n\u001b[1;32m    433\u001b[0m         \u001b[0;32mif\u001b[0m \u001b[0mself\u001b[0m\u001b[0;34m.\u001b[0m\u001b[0m_sampler_iter\u001b[0m \u001b[0;32mis\u001b[0m \u001b[0;32mNone\u001b[0m\u001b[0;34m:\u001b[0m\u001b[0;34m\u001b[0m\u001b[0;34m\u001b[0m\u001b[0m\n\u001b[1;32m    434\u001b[0m             \u001b[0mself\u001b[0m\u001b[0;34m.\u001b[0m\u001b[0m_reset\u001b[0m\u001b[0;34m(\u001b[0m\u001b[0;34m)\u001b[0m\u001b[0;34m\u001b[0m\u001b[0;34m\u001b[0m\u001b[0m\n\u001b[0;32m--> 435\u001b[0;31m         \u001b[0mdata\u001b[0m \u001b[0;34m=\u001b[0m \u001b[0mself\u001b[0m\u001b[0;34m.\u001b[0m\u001b[0m_next_data\u001b[0m\u001b[0;34m(\u001b[0m\u001b[0;34m)\u001b[0m\u001b[0;34m\u001b[0m\u001b[0;34m\u001b[0m\u001b[0m\n\u001b[0m\u001b[1;32m    436\u001b[0m         \u001b[0mself\u001b[0m\u001b[0;34m.\u001b[0m\u001b[0m_num_yielded\u001b[0m \u001b[0;34m+=\u001b[0m \u001b[0;36m1\u001b[0m\u001b[0;34m\u001b[0m\u001b[0;34m\u001b[0m\u001b[0m\n\u001b[1;32m    437\u001b[0m         \u001b[0;32mif\u001b[0m \u001b[0mself\u001b[0m\u001b[0;34m.\u001b[0m\u001b[0m_dataset_kind\u001b[0m \u001b[0;34m==\u001b[0m \u001b[0m_DatasetKind\u001b[0m\u001b[0;34m.\u001b[0m\u001b[0mIterable\u001b[0m \u001b[0;32mand\u001b[0m\u001b[0;31m \u001b[0m\u001b[0;31m\\\u001b[0m\u001b[0;34m\u001b[0m\u001b[0;34m\u001b[0m\u001b[0m\n",
      "\u001b[0;32m/opt/conda/lib/python3.7/site-packages/torch/utils/data/dataloader.py\u001b[0m in \u001b[0;36m_next_data\u001b[0;34m(self)\u001b[0m\n\u001b[1;32m    473\u001b[0m     \u001b[0;32mdef\u001b[0m \u001b[0m_next_data\u001b[0m\u001b[0;34m(\u001b[0m\u001b[0mself\u001b[0m\u001b[0;34m)\u001b[0m\u001b[0;34m:\u001b[0m\u001b[0;34m\u001b[0m\u001b[0;34m\u001b[0m\u001b[0m\n\u001b[1;32m    474\u001b[0m         \u001b[0mindex\u001b[0m \u001b[0;34m=\u001b[0m \u001b[0mself\u001b[0m\u001b[0;34m.\u001b[0m\u001b[0m_next_index\u001b[0m\u001b[0;34m(\u001b[0m\u001b[0;34m)\u001b[0m  \u001b[0;31m# may raise StopIteration\u001b[0m\u001b[0;34m\u001b[0m\u001b[0;34m\u001b[0m\u001b[0m\n\u001b[0;32m--> 475\u001b[0;31m         \u001b[0mdata\u001b[0m \u001b[0;34m=\u001b[0m \u001b[0mself\u001b[0m\u001b[0;34m.\u001b[0m\u001b[0m_dataset_fetcher\u001b[0m\u001b[0;34m.\u001b[0m\u001b[0mfetch\u001b[0m\u001b[0;34m(\u001b[0m\u001b[0mindex\u001b[0m\u001b[0;34m)\u001b[0m  \u001b[0;31m# may raise StopIteration\u001b[0m\u001b[0;34m\u001b[0m\u001b[0;34m\u001b[0m\u001b[0m\n\u001b[0m\u001b[1;32m    476\u001b[0m         \u001b[0;32mif\u001b[0m \u001b[0mself\u001b[0m\u001b[0;34m.\u001b[0m\u001b[0m_pin_memory\u001b[0m\u001b[0;34m:\u001b[0m\u001b[0;34m\u001b[0m\u001b[0;34m\u001b[0m\u001b[0m\n\u001b[1;32m    477\u001b[0m             \u001b[0mdata\u001b[0m \u001b[0;34m=\u001b[0m \u001b[0m_utils\u001b[0m\u001b[0;34m.\u001b[0m\u001b[0mpin_memory\u001b[0m\u001b[0;34m.\u001b[0m\u001b[0mpin_memory\u001b[0m\u001b[0;34m(\u001b[0m\u001b[0mdata\u001b[0m\u001b[0;34m)\u001b[0m\u001b[0;34m\u001b[0m\u001b[0;34m\u001b[0m\u001b[0m\n",
      "\u001b[0;32m/opt/conda/lib/python3.7/site-packages/torch/utils/data/_utils/fetch.py\u001b[0m in \u001b[0;36mfetch\u001b[0;34m(self, possibly_batched_index)\u001b[0m\n\u001b[1;32m     45\u001b[0m         \u001b[0;32melse\u001b[0m\u001b[0;34m:\u001b[0m\u001b[0;34m\u001b[0m\u001b[0;34m\u001b[0m\u001b[0m\n\u001b[1;32m     46\u001b[0m             \u001b[0mdata\u001b[0m \u001b[0;34m=\u001b[0m \u001b[0mself\u001b[0m\u001b[0;34m.\u001b[0m\u001b[0mdataset\u001b[0m\u001b[0;34m[\u001b[0m\u001b[0mpossibly_batched_index\u001b[0m\u001b[0;34m]\u001b[0m\u001b[0;34m\u001b[0m\u001b[0;34m\u001b[0m\u001b[0m\n\u001b[0;32m---> 47\u001b[0;31m         \u001b[0;32mreturn\u001b[0m \u001b[0mself\u001b[0m\u001b[0;34m.\u001b[0m\u001b[0mcollate_fn\u001b[0m\u001b[0;34m(\u001b[0m\u001b[0mdata\u001b[0m\u001b[0;34m)\u001b[0m\u001b[0;34m\u001b[0m\u001b[0;34m\u001b[0m\u001b[0m\n\u001b[0m",
      "\u001b[0;32m/opt/conda/lib/python3.7/site-packages/torch/utils/data/_utils/collate.py\u001b[0m in \u001b[0;36mdefault_collate\u001b[0;34m(batch)\u001b[0m\n\u001b[1;32m     81\u001b[0m             \u001b[0;32mraise\u001b[0m \u001b[0mRuntimeError\u001b[0m\u001b[0;34m(\u001b[0m\u001b[0;34m'each element in list of batch should be of equal size'\u001b[0m\u001b[0;34m)\u001b[0m\u001b[0;34m\u001b[0m\u001b[0;34m\u001b[0m\u001b[0m\n\u001b[1;32m     82\u001b[0m         \u001b[0mtransposed\u001b[0m \u001b[0;34m=\u001b[0m \u001b[0mzip\u001b[0m\u001b[0;34m(\u001b[0m\u001b[0;34m*\u001b[0m\u001b[0mbatch\u001b[0m\u001b[0;34m)\u001b[0m\u001b[0;34m\u001b[0m\u001b[0;34m\u001b[0m\u001b[0m\n\u001b[0;32m---> 83\u001b[0;31m         \u001b[0;32mreturn\u001b[0m \u001b[0;34m[\u001b[0m\u001b[0mdefault_collate\u001b[0m\u001b[0;34m(\u001b[0m\u001b[0msamples\u001b[0m\u001b[0;34m)\u001b[0m \u001b[0;32mfor\u001b[0m \u001b[0msamples\u001b[0m \u001b[0;32min\u001b[0m \u001b[0mtransposed\u001b[0m\u001b[0;34m]\u001b[0m\u001b[0;34m\u001b[0m\u001b[0;34m\u001b[0m\u001b[0m\n\u001b[0m\u001b[1;32m     84\u001b[0m \u001b[0;34m\u001b[0m\u001b[0m\n\u001b[1;32m     85\u001b[0m     \u001b[0;32mraise\u001b[0m \u001b[0mTypeError\u001b[0m\u001b[0;34m(\u001b[0m\u001b[0mdefault_collate_err_msg_format\u001b[0m\u001b[0;34m.\u001b[0m\u001b[0mformat\u001b[0m\u001b[0;34m(\u001b[0m\u001b[0melem_type\u001b[0m\u001b[0;34m)\u001b[0m\u001b[0;34m)\u001b[0m\u001b[0;34m\u001b[0m\u001b[0;34m\u001b[0m\u001b[0m\n",
      "\u001b[0;32m/opt/conda/lib/python3.7/site-packages/torch/utils/data/_utils/collate.py\u001b[0m in \u001b[0;36m<listcomp>\u001b[0;34m(.0)\u001b[0m\n\u001b[1;32m     81\u001b[0m             \u001b[0;32mraise\u001b[0m \u001b[0mRuntimeError\u001b[0m\u001b[0;34m(\u001b[0m\u001b[0;34m'each element in list of batch should be of equal size'\u001b[0m\u001b[0;34m)\u001b[0m\u001b[0;34m\u001b[0m\u001b[0;34m\u001b[0m\u001b[0m\n\u001b[1;32m     82\u001b[0m         \u001b[0mtransposed\u001b[0m \u001b[0;34m=\u001b[0m \u001b[0mzip\u001b[0m\u001b[0;34m(\u001b[0m\u001b[0;34m*\u001b[0m\u001b[0mbatch\u001b[0m\u001b[0;34m)\u001b[0m\u001b[0;34m\u001b[0m\u001b[0;34m\u001b[0m\u001b[0m\n\u001b[0;32m---> 83\u001b[0;31m         \u001b[0;32mreturn\u001b[0m \u001b[0;34m[\u001b[0m\u001b[0mdefault_collate\u001b[0m\u001b[0;34m(\u001b[0m\u001b[0msamples\u001b[0m\u001b[0;34m)\u001b[0m \u001b[0;32mfor\u001b[0m \u001b[0msamples\u001b[0m \u001b[0;32min\u001b[0m \u001b[0mtransposed\u001b[0m\u001b[0;34m]\u001b[0m\u001b[0;34m\u001b[0m\u001b[0;34m\u001b[0m\u001b[0m\n\u001b[0m\u001b[1;32m     84\u001b[0m \u001b[0;34m\u001b[0m\u001b[0m\n\u001b[1;32m     85\u001b[0m     \u001b[0;32mraise\u001b[0m \u001b[0mTypeError\u001b[0m\u001b[0;34m(\u001b[0m\u001b[0mdefault_collate_err_msg_format\u001b[0m\u001b[0;34m.\u001b[0m\u001b[0mformat\u001b[0m\u001b[0;34m(\u001b[0m\u001b[0melem_type\u001b[0m\u001b[0;34m)\u001b[0m\u001b[0;34m)\u001b[0m\u001b[0;34m\u001b[0m\u001b[0;34m\u001b[0m\u001b[0m\n",
      "\u001b[0;32m/opt/conda/lib/python3.7/site-packages/torch/utils/data/_utils/collate.py\u001b[0m in \u001b[0;36mdefault_collate\u001b[0;34m(batch)\u001b[0m\n\u001b[1;32m     53\u001b[0m             \u001b[0mstorage\u001b[0m \u001b[0;34m=\u001b[0m \u001b[0melem\u001b[0m\u001b[0;34m.\u001b[0m\u001b[0mstorage\u001b[0m\u001b[0;34m(\u001b[0m\u001b[0;34m)\u001b[0m\u001b[0;34m.\u001b[0m\u001b[0m_new_shared\u001b[0m\u001b[0;34m(\u001b[0m\u001b[0mnumel\u001b[0m\u001b[0;34m)\u001b[0m\u001b[0;34m\u001b[0m\u001b[0;34m\u001b[0m\u001b[0m\n\u001b[1;32m     54\u001b[0m             \u001b[0mout\u001b[0m \u001b[0;34m=\u001b[0m \u001b[0melem\u001b[0m\u001b[0;34m.\u001b[0m\u001b[0mnew\u001b[0m\u001b[0;34m(\u001b[0m\u001b[0mstorage\u001b[0m\u001b[0;34m)\u001b[0m\u001b[0;34m\u001b[0m\u001b[0;34m\u001b[0m\u001b[0m\n\u001b[0;32m---> 55\u001b[0;31m         \u001b[0;32mreturn\u001b[0m \u001b[0mtorch\u001b[0m\u001b[0;34m.\u001b[0m\u001b[0mstack\u001b[0m\u001b[0;34m(\u001b[0m\u001b[0mbatch\u001b[0m\u001b[0;34m,\u001b[0m \u001b[0;36m0\u001b[0m\u001b[0;34m,\u001b[0m \u001b[0mout\u001b[0m\u001b[0;34m=\u001b[0m\u001b[0mout\u001b[0m\u001b[0;34m)\u001b[0m\u001b[0;34m\u001b[0m\u001b[0;34m\u001b[0m\u001b[0m\n\u001b[0m\u001b[1;32m     56\u001b[0m     \u001b[0;32melif\u001b[0m \u001b[0melem_type\u001b[0m\u001b[0;34m.\u001b[0m\u001b[0m__module__\u001b[0m \u001b[0;34m==\u001b[0m \u001b[0;34m'numpy'\u001b[0m \u001b[0;32mand\u001b[0m \u001b[0melem_type\u001b[0m\u001b[0;34m.\u001b[0m\u001b[0m__name__\u001b[0m \u001b[0;34m!=\u001b[0m \u001b[0;34m'str_'\u001b[0m\u001b[0;31m \u001b[0m\u001b[0;31m\\\u001b[0m\u001b[0;34m\u001b[0m\u001b[0;34m\u001b[0m\u001b[0m\n\u001b[1;32m     57\u001b[0m             \u001b[0;32mand\u001b[0m \u001b[0melem_type\u001b[0m\u001b[0;34m.\u001b[0m\u001b[0m__name__\u001b[0m \u001b[0;34m!=\u001b[0m \u001b[0;34m'string_'\u001b[0m\u001b[0;34m:\u001b[0m\u001b[0;34m\u001b[0m\u001b[0;34m\u001b[0m\u001b[0m\n",
      "\u001b[0;31mRuntimeError\u001b[0m: stack expects each tensor to be equal size, but got [3, 768, 768] at entry 0 and [4, 768, 768] at entry 1"
     ]
    }
   ],
   "source": [
    "trainer.fit(model_tuner, datamodule=data_module)"
   ]
  },
  {
   "cell_type": "code",
   "execution_count": null,
   "metadata": {},
   "outputs": [],
   "source": []
  }
 ],
 "metadata": {
  "kernelspec": {
   "display_name": "Python 3",
   "language": "python",
   "name": "python3"
  },
  "language_info": {
   "codemirror_mode": {
    "name": "ipython",
    "version": 3
   },
   "file_extension": ".py",
   "mimetype": "text/x-python",
   "name": "python",
   "nbconvert_exporter": "python",
   "pygments_lexer": "ipython3",
   "version": "3.7.7"
  }
 },
 "nbformat": 4,
 "nbformat_minor": 4
}
